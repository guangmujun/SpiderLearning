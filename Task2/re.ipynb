{
 "cells": [
  {
   "cell_type": "markdown",
   "metadata": {},
   "source": [
    "## 学到的神奇操作"
   ]
  },
  {
   "cell_type": "code",
   "execution_count": null,
   "metadata": {},
   "outputs": [],
   "source": [
    "def printlist(info_list):\n",
    "    '''结果输出，也可使用Pandas'''\n",
    "    tplt = \"{:^5}\\t{:^10}\\t{:^50}\"\n",
    "    print(tplt.format(\"序号\", \"商品价格\", \"商品名称\"))\n",
    "    count = 0\n",
    "    for info in info_list:\n",
    "        count += 1\n",
    "        print(tplt.format(count, info[0], info[1]))"
   ]
  },
  {
   "cell_type": "code",
   "execution_count": null,
   "metadata": {},
   "outputs": [],
   "source": [
    "printGoodList(info_list)"
   ]
  },
  {
   "cell_type": "markdown",
   "metadata": {},
   "source": [
    "## 正则表达式\n",
    "### 作用\n",
    "- 测试字符串内的模式。\n",
    "    例如，可以测试输入字符串，以查看字符串内是否出现电话号码模式或信用卡号码模式。这称为数据验证。\n",
    "- 替换文本。\n",
    "    可以使用正则表达式来识别文档中的特定文本，完全删除该文本或者用其他文本替换它。\n",
    "- 基于模式匹配从字符串中提取子字符串。\n",
    "    可以查找文档内或输入域内特定的文本。\n",
    "\n",
    "### 语法\n",
    "```python\n",
    "1. . 表示任何单个字符\n",
    "2. [ ] 字符集，对单个字符给出取值范围 ，如[abc]表示a、b、c，[a‐z]表示a到z单个字符\n",
    "3. [^ ] 非字符集，对单个字符给出排除范围 ，如[^abc]表示非a或b或c的单个字符\n",
    "4. * 前一个字符0次或无限次扩展，如abc* 表示 ab、abc、abcc、abccc等\n",
    "5. + 前一个字符1次或无限次扩展 ，如abc+ 表示 abc、abcc、abccc等\n",
    "6. ? 前一个字符0次或1次扩展 ，如abc? 表示 ab、abc\n",
    "7. | 左右表达式任意一个 ，如abc|def 表示 abc、def\n",
    "8. {m} 扩展前一个字符m次 ，如ab{2}c表示abbc\n",
    "9. {m,n} 扩展前一个字符m至n次（含n） ，如ab{1,2}c表示abc、abbc\n",
    "10. ^ 匹配字符串开头 ，如^abc表示abc且在一个字符串的开头\n",
    "11. $ 匹配字符串结尾 ，如abc$表示abc且在一个字符串的结尾\n",
    "12. ( ) 分组标记，内部只能使用 | 操作符 ，如(abc)表示abc，(abc|def)表示abc、def\n",
    "13. \\d 数字，等价于[0‐9]\n",
    "14. \\w 单词字符，等价于[A‐Za‐z0‐9_]\n",
    "```\n",
    "\n",
    "### 主要功能函数\n",
    "- re.search() 在一个字符串中搜索匹配正则表达式的第一个位置，返回match对象\n",
    "    - re.search(pattern, string, flags=0)\n",
    "- re.match() 从一个字符串的开始位置起匹配正则表达式，返回match对象\n",
    "    - re.match(pattern, string, flags=0)\n",
    "- re.findall() 搜索字符串，以列表类型返回全部能匹配的子串\n",
    "    - re.findall(pattern, string, flags=0)\n",
    "- re.split() 将一个字符串按照正则表达式匹配结果进行分割，返回列表类型\n",
    "    - re.split(pattern, string, maxsplit=0, flags=0)\n",
    "- re.finditer() 搜索字符串，返回一个匹配结果的迭代类型，每个迭代元素是match对象\n",
    "    - re.finditer(pattern, string, flags=0)\n",
    "- re.sub() 在一个字符串中替换所有匹配正则表达式的子串，返回替换后的字符串\n",
    "    - re.sub(pattern, repl, string, count=0, flags=0)\n",
    "    - flags : 正则表达式使用时的控制标记：\n",
    "        - re.I --> re.IGNORECASE : 忽略正则表达式的大小写，\\[A‐Z]能够匹配小写字符\n",
    "        - re.M --> re.MULTILINE : 正则表达式中的^操作符能够将给定字符串的每行当作匹配开始\n",
    "        - re.S --> re.DOTALL : 正则表达式中的.操作符能够匹配所有字符，默认匹配除换行外的所有字符\n",
    "\n",
    "### 补充\n",
    "**re库的另一种等价用法（编译）**\n",
    "\n",
    "regex = re.compile(pattern, flags=0)：将正则表达式的字符串形式编译成正则表达式对象\n",
    "\n",
    "**re 库的贪婪匹配和最小匹配**\n",
    "- .* Re库默认采用贪婪匹配，即输出匹配最长的子串\n",
    "- *? 只要长度输出可能不同的，都可以通过在操作符后增加?变成最小匹配"
   ]
  },
  {
   "cell_type": "markdown",
   "metadata": {},
   "source": [
    "### 实战：淘宝商品比价定向爬虫\n",
    "\n",
    "url = ‘https://s.taobao.com/search?q=书包&js=1&stats_click=search_radio_all%25’"
   ]
  },
  {
   "cell_type": "code",
   "execution_count": 180,
   "metadata": {},
   "outputs": [],
   "source": [
    "import requests\n",
    "import re"
   ]
  },
  {
   "cell_type": "code",
   "execution_count": 181,
   "metadata": {},
   "outputs": [],
   "source": [
    "def gethtml(url,page):\n",
    "    '''发送请求，获得相应数据'''\n",
    "    headers = {\n",
    "        'user-agent':\n",
    "        'Mozilla/5.0 (Windows NT 10.0; Win64; x64) AppleWebKit/537.36 (KHTML, like Gecko) Chrome/81.0.4044.113 Safari/537.36',\n",
    "        'cookie':\n",
    "        'cna=LUTNFp98HgICAbfQbqG69yTN; miid=883322181641661587; thw=cn; t=18d9014034c3d7cdbf22e0e0a36389cc; sgcookie=E29N6vJEFyFHZnS8l4FeN; uc3=nk2=2mxIgRGsf84%3D&id2=UUGk1yyTQ3niFw%3D%3D&lg2=U%2BGCWk%2F75gdr5Q%3D%3D&vt3=F8dBxGR2VDrLz2TMKBk%3D; lgc=%5Cu5E7F%5Cu6155%5Cu4E00%5Cu541B; uc4=nk4=0%402FZXUWtnKEf9cHHvYZrDMUKxlA%3D%3D&id4=0%40U2OT53LpZWcybOSAnCSqgDRG2Zgf; tracknick=%5Cu5E7F%5Cu6155%5Cu4E00%5Cu541B; _cc_=V32FPkk%2Fhw%3D%3D; enc=4JieTg91uCqW8w8tN0SJVVgFDUlDxb%2BJyzRMdsXoYioud%2BuDK02H45acsdFjm7I7zu8z9KIuVNp3gu5OeslVHw%3D%3D; tfstk=cco5BAfVG_fSEYmP0X94zhw9OrqAapAbnUN-FqhdW5P6V_D7MsDhb5ZkQ2fcDPef.; mt=ci=9_1; hng=CN%7Czh-CN%7CCNY%7C156; JSESSIONID=DB7B892FE15A99AAF4B17C5B88C76EBB; uc1=cookie14=UoTUPclonZEnOA%3D%3D; cookie2=59a6025621adae4fa855dcd33cdbf335; v=0; _tb_token_=a13ee3be7e75; l=eBNr8SXVQUiUqSDbBOfZnurza77TOIRAguPzaNbMiT5P_yfH5B1OWZjY0ELMCnGVh62DJ3yAaP04BeYBqCmWfdW22j-laOkmn; isg=BPj4FZyr0vusyD6WOERLsp6SyaaKYVzrkxNoTjJpaTPmTZg323FMexxnBUV9HRTD'\n",
    "    }\n",
    "    params = {\n",
    "        'q':'书包',\n",
    "        's':44*page\n",
    "        \n",
    "    }\n",
    "    try:\n",
    "        res = requests.get(url,params=params,headers=headers)\n",
    "        res.raise_for_status()\n",
    "        res.encoding = 'utf-8'\n",
    "        return res.text\n",
    "    except:\n",
    "        return '产生异常'"
   ]
  },
  {
   "cell_type": "markdown",
   "metadata": {},
   "source": [
    "**补充:  .*?的使用**\n",
    "\n",
    "后边多一个？表示懒惰模式。必须跟在*或者+后边用\n",
    "\n",
    "如：`<img src=\"test.jpg\" width=\"60px\" height=\"80px\"/>`\n",
    "\n",
    "如果用正则匹配src中内容非懒惰模式匹配\n",
    "\n",
    "src=\".*\"\n",
    "\n",
    "匹配结果是：src=\"test.jpg\" width=\"60px\" height=\"80px\"\n",
    "\n",
    "意思是从=\"往后匹配，直到最后一个\"匹配结束\n",
    "\n",
    "懒惰模式正则：\n",
    "\n",
    "src=\".*?\"\n",
    "\n",
    "结果：src=\"test.jpg\"\n",
    "\n",
    "因为匹配到第一个\"就结束了一次匹配。不会继续向后匹配。因为他懒惰嘛。\n",
    "\n",
    ".表示除\\n之外的任意字符\n",
    "\n",
    "*表示匹配0-无穷\n",
    "\n",
    "+表示匹配1-无穷\n"
   ]
  },
  {
   "cell_type": "code",
   "execution_count": 182,
   "metadata": {},
   "outputs": [],
   "source": [
    "def parsehtml(html):\n",
    "    '''通过正则解析数据'''\n",
    "    glist = []\n",
    "    price_list = re.findall(r'view_price\":\"(.*?)\",\"view_fee', html)\n",
    "    name_list = re.findall(r'raw_title\":\"(.*?)\",\"pic_url\":', html)\n",
    "    for i, j in zip(price_list, name_list):\n",
    "        glist.append([i, j])\n",
    "#         print(glist)\n",
    "    return glist"
   ]
  },
  {
   "cell_type": "code",
   "execution_count": 183,
   "metadata": {},
   "outputs": [],
   "source": [
    "def printlist(info_list):\n",
    "    '''结果输出，也可使用Pandas'''\n",
    "    tplt = \"{:^5}\\t{:^10}\\t{:^50}\"\n",
    "    print(tplt.format(\"序号\", \"商品价格\", \"商品名称\"))\n",
    "    count = 0\n",
    "    for info in info_list:\n",
    "        count += 1\n",
    "        print(tplt.format(count, info[0], info[1]))"
   ]
  },
  {
   "cell_type": "code",
   "execution_count": 184,
   "metadata": {},
   "outputs": [],
   "source": [
    "url = 'https://s.taobao.com/search?'\n",
    "page = 3\n",
    "info_list = []"
   ]
  },
  {
   "cell_type": "code",
   "execution_count": 185,
   "metadata": {},
   "outputs": [
    {
     "output_type": "stream",
     "name": "stdout",
     "text": "序号  \t   商品价格   \t                       商品名称                       \n  1  \t  189.00  \t         不莱玫包包2020新款网红百搭时尚托特包手提单肩包女大容量书包潮         \n  2  \t  179.00  \t        不莱玫2020新款迪士尼书包时尚复古ins风小背包女双肩包迷你小包         \n  3  \t  76.00   \t          儿童书包小学生女一二三到六年级韩版减负护脊男孩轻便防水书包           \n  4  \t  115.00  \t        KK剑桥树书包小学生男孩一二三到六年级儿童6-12岁男童双肩包减负         \n  5  \t  378.00  \t      tigerfamily书包小学生男孩1-3-6年级 初高中儿童护脊减负背包女      \n  6  \t  179.00  \t         安踏双肩包2020潮牌大容量旅行背包男休闲简约学生书包运动背包男         \n  7  \t  299.00  \t      Viney真皮双肩包2020年新款韩版百搭书包韩版原宿ulzzang双肩背包      \n  8  \t  139.00  \t        阿迪达斯学生书包男女包初中高中大学生电脑包运动双肩背包FI7968         \n  9  \t  59.80   \t          商务背包男士双肩包韩版潮流旅行休闲女中学生书包简约时尚电脑包          \n 10  \t  858.00  \t         韩国直邮 PETER JENSEN彼得詹森经典双肩背包儿童书包          \n 11  \t  249.00  \t       Nike耐克2020年新款Tanjun儿童双肩背包男女休闲书包手提包拎包       \n 12  \t 1099.00  \t        Fion/菲安妮新款时尚包包 女士旅行旅游背包 绣花双肩包潮牌书包         \n 13  \t  289.00  \t      Samsonite/新秀丽儿童背包可爱卡通动物造型学生书包3D双肩包 U22      \n 14  \t  469.00  \t       Doughnut Macaroon粉彩背包旅行书包户外学生双肩包女新款        \n 15  \t  165.00  \t       kk树小学生拉杆书包1-3-6年级女童6-12周岁儿童公主防水轻便背包        \n 16  \t  319.00  \t       Nike耐克双肩包男Kyrie欧文篮球包 运动训练学生背包旅行包书包大        \n 17  \t  549.00  \t      Samsonite/新秀丽学院风双肩包男背包 商务男士旅行包潮流书包TQ5       \n 18  \t  599.00  \t        美国crocs2020品牌双肩包女黑色防水尼龙抽带大容量休闲背包书包        \n 19  \t 1498.00  \t      【明星同款】英国AnythingStudio小学生书包双肩包英伦日本风超轻       \n 20  \t  59.00   \t          电脑背包男士双肩包旅行大容量时尚潮流高中初中学生书包女大学生          \n 21  \t  498.00  \t        ito双肩包男商务设计师电脑包14寸女潮流书包ins风小背包时尚百搭        \n 22  \t  69.90   \t         大脸兔牛津布双肩包女2020新款韩版尼龙百搭旅行防水超轻背包书包         \n 23  \t  298.00  \t        爆款anello日本ins潮风乐天双肩包女背包男离家出走包大学生书包        \n 24  \t  169.00  \t     【直营】adidas阿迪达斯大童 蓝色DW4281 K CL IN 双肩儿童书包     \n 25  \t  319.00  \t          瑞士军士刀瑞戈旅行双肩包瑞士书包大容量商务出差电脑背包男防盗          \n 26  \t  109.00  \t        迪士尼小学生书包减负轻便儿童超轻1-3-4-6三到六年级护脊女男童5        \n 27  \t  289.00  \t     Nike耐克背包男包女包TANJUN学生书包简约旅游双肩包BA6097-436      \n 28  \t  299.90  \t         迪卡侬休闲旅行包出差大容量户外防雨罩男女书包登山包双肩包FOR3         \n 29  \t  49.90   \t         迪卡侬旗舰店儿童运动背包男女青少年登山包双肩包学生书包QUJR          \n 30  \t  998.00  \t   Herschel Little America 春夏新色双肩包男背包书包潮流10014    \n 31  \t  598.00  \t     Herschel Dawson 双肩包男书包女ins风潮牌街头背包欧美10233     \n 32  \t  749.00  \t      kipling女大容量背包春夏新款时尚简约潮书包双肩包|CAYENNE系列       \n 33  \t  358.00  \t       JanSport旗舰店官网女双肩背包学生书包电脑包男背包 3P6X008       \n 34  \t  288.00  \t       【新品】JanSport杰斯伯双肩包女大学生书包男休闲背包4QUT04S       \n 35  \t  398.00  \t     kipling男女大容量电脑背包2020年新款旅行包书包双肩包|BACKPACK     \n 36  \t  168.00  \t        迪士尼小学生书包男童女童1-3-4一三四年级蜘蛛侠儿童减负双肩包6         \n 37  \t  118.00  \t         凯蒂猫小学生书包女童1-3-4三年级女孩护脊太空减负儿童双肩背包         \n 38  \t  179.00  \t          迪士尼商店 迪士尼公主冰雪奇缘蜘蛛侠玩具总动员儿童书包学生           \n 39  \t  189.00  \t       uek书包小学生男童女孩1-3-5一年级儿童书包男6-12岁轻便双肩背包       \n 40  \t  178.00  \t          牛津大学书包小学生男孩一二年级三到六儿童减负护脊轻便双肩女四          \n 41  \t  139.00  \t          花花公子男士双肩包时尚潮流休闲初中学生书包大学生电脑旅行背包          \n 42  \t  178.00  \t       书包ins韩版原宿ulzzang初中高中大学生百搭森系背包网红双肩包女        \n 43  \t  159.00  \t     Nike 耐克官方NIKE ELEMENTAL儿童双肩包 书包\\nBA6030      \n 44  \t  899.00  \t        挪威官方正品Beckmann小学生书包女男儿童护脊减压背包1-3年级        \n 45  \t  118.00  \t         可优比儿童背包防走丢失带包宝宝书包1-3岁幼儿园书包男女童包包          \n 46  \t  359.00  \t        MYD双肩包女书包韩版大学生初中高中生中学生ins风肩包电脑背包男         \n 47  \t  189.00  \t         不莱玫包包2020新款网红百搭时尚托特包手提单肩包女大容量书包潮         \n 48  \t  115.00  \t        KK剑桥树书包小学生男孩一二三到六年级儿童6-12岁男童双肩包减负         \n 49  \t  76.00   \t          儿童书包小学生女一二三到六年级韩版减负护脊男孩轻便防水书包           \n 50  \t  378.00  \t      tigerfamily书包小学生男孩1-3-6年级 初高中儿童护脊减负背包女      \n 51  \t  179.00  \t         安踏双肩包2020潮牌大容量旅行背包男休闲简约学生书包运动背包男         \n 52  \t  299.00  \t      Viney真皮双肩包2020年新款韩版百搭书包韩版原宿ulzzang双肩背包      \n 53  \t  59.80   \t          商务背包男士双肩包韩版潮流旅行休闲女中学生书包简约时尚电脑包          \n 54  \t  139.00  \t        阿迪达斯学生书包男女包初中高中大学生电脑包运动双肩背包FI7968         \n 55  \t  858.00  \t         韩国直邮 PETER JENSEN彼得詹森经典双肩背包儿童书包          \n 56  \t 1099.00  \t        Fion/菲安妮新款时尚包包 女士旅行旅游背包 绣花双肩包潮牌书包         \n 57  \t  289.00  \t      Samsonite/新秀丽儿童背包可爱卡通动物造型学生书包3D双肩包 U22      \n 58  \t  469.00  \t       Doughnut Macaroon粉彩背包旅行书包户外学生双肩包女新款        \n 59  \t  249.00  \t       Nike耐克2020年新款Tanjun儿童双肩背包男女休闲书包手提包拎包       \n 60  \t  165.00  \t       kk树小学生拉杆书包1-3-6年级女童6-12周岁儿童公主防水轻便背包        \n 61  \t  319.00  \t       Nike耐克双肩包男Kyrie欧文篮球包 运动训练学生背包旅行包书包大        \n 62  \t  59.00   \t          电脑背包男士双肩包旅行大容量时尚潮流高中初中学生书包女大学生          \n 63  \t  549.00  \t      Samsonite/新秀丽学院风双肩包男背包 商务男士旅行包潮流书包TQ5       \n 64  \t  599.00  \t        美国crocs2020品牌双肩包女黑色防水尼龙抽带大容量休闲背包书包        \n 65  \t 1498.00  \t      【明星同款】英国AnythingStudio小学生书包双肩包英伦日本风超轻       \n 66  \t  498.00  \t        ito双肩包男商务设计师电脑包14寸女潮流书包ins风小背包时尚百搭        \n 67  \t  69.90   \t         大脸兔牛津布双肩包女2020新款韩版尼龙百搭旅行防水超轻背包书包         \n 68  \t  298.00  \t        爆款anello日本ins潮风乐天双肩包女背包男离家出走包大学生书包        \n 69  \t  169.00  \t     【直营】adidas阿迪达斯大童 蓝色DW4281 K CL IN 双肩儿童书包     \n 70  \t  319.00  \t          瑞士军士刀瑞戈旅行双肩包瑞士书包大容量商务出差电脑背包男防盗          \n 71  \t  109.00  \t        迪士尼小学生书包减负轻便儿童超轻1-3-4-6三到六年级护脊女男童5        \n 72  \t  299.90  \t         迪卡侬休闲旅行包出差大容量户外防雨罩男女书包登山包双肩包FOR3         \n 73  \t  49.90   \t         迪卡侬旗舰店儿童运动背包男女青少年登山包双肩包学生书包QUJR          \n 74  \t  998.00  \t   Herschel Little America 春夏新色双肩包男背包书包潮流10014    \n 75  \t  598.00  \t     Herschel Dawson 双肩包男书包女ins风潮牌街头背包欧美10233     \n 76  \t  749.00  \t      kipling女大容量背包春夏新款时尚简约潮书包双肩包|CAYENNE系列       \n 77  \t  358.00  \t       JanSport旗舰店官网女双肩背包学生书包电脑包男背包 3P6X008       \n 78  \t  288.00  \t       【新品】JanSport杰斯伯双肩包女大学生书包男休闲背包4QUT04S       \n 79  \t  398.00  \t     kipling男女大容量电脑背包2020年新款旅行包书包双肩包|BACKPACK     \n 80  \t  168.00  \t        迪士尼小学生书包男童女童1-3-4一三四年级蜘蛛侠儿童减负双肩包6         \n 81  \t  118.00  \t         凯蒂猫小学生书包女童1-3-4三年级女孩护脊太空减负儿童双肩背包         \n 82  \t  179.00  \t        不莱玫2020新款迪士尼书包时尚复古ins风小背包女双肩包迷你小包         \n 83  \t  179.00  \t          迪士尼商店 迪士尼公主冰雪奇缘蜘蛛侠玩具总动员儿童书包学生           \n 84  \t  139.00  \t          花花公子男士双肩包时尚潮流休闲初中学生书包大学生电脑旅行背包          \n 85  \t  289.00  \t     Nike耐克背包男包女包TANJUN学生书包简约旅游双肩包BA6097-436      \n 86  \t  159.00  \t     Nike 耐克官方NIKE ELEMENTAL儿童双肩包 书包\\nBA6030      \n 87  \t  189.00  \t       uek书包小学生男童女孩1-3-5一年级儿童书包男6-12岁轻便双肩背包       \n 88  \t  178.00  \t          牛津大学书包小学生男孩一二年级三到六儿童减负护脊轻便双肩女四          \n 89  \t  118.00  \t         可优比儿童背包防走丢失带包宝宝书包1-3岁幼儿园书包男女童包包          \n 90  \t  359.00  \t        MYD双肩包女书包韩版大学生初中高中生中学生ins风肩包电脑背包男         \n 91  \t  189.00  \t         不莱玫包包2020新款网红百搭时尚托特包手提单肩包女大容量书包潮         \n 92  \t  115.00  \t        KK剑桥树书包小学生男孩一二三到六年级儿童6-12岁男童双肩包减负         \n 93  \t  76.00   \t          儿童书包小学生女一二三到六年级韩版减负护脊男孩轻便防水书包           \n 94  \t  378.00  \t      tigerfamily书包小学生男孩1-3-6年级 初高中儿童护脊减负背包女      \n 95  \t  179.00  \t         安踏双肩包2020潮牌大容量旅行背包男休闲简约学生书包运动背包男         \n 96  \t  299.00  \t      Viney真皮双肩包2020年新款韩版百搭书包韩版原宿ulzzang双肩背包      \n 97  \t  59.80   \t          商务背包男士双肩包韩版潮流旅行休闲女中学生书包简约时尚电脑包          \n 98  \t  139.00  \t        阿迪达斯学生书包男女包初中高中大学生电脑包运动双肩背包FI7968         \n 99  \t  858.00  \t         韩国直邮 PETER JENSEN彼得詹森经典双肩背包儿童书包          \n 100 \t 1099.00  \t        Fion/菲安妮新款时尚包包 女士旅行旅游背包 绣花双肩包潮牌书包         \n 101 \t  289.00  \t      Samsonite/新秀丽儿童背包可爱卡通动物造型学生书包3D双肩包 U22      \n 102 \t  469.00  \t       Doughnut Macaroon粉彩背包旅行书包户外学生双肩包女新款        \n 103 \t  249.00  \t       Nike耐克2020年新款Tanjun儿童双肩背包男女休闲书包手提包拎包       \n 104 \t  165.00  \t       kk树小学生拉杆书包1-3-6年级女童6-12周岁儿童公主防水轻便背包        \n 105 \t  319.00  \t       Nike耐克双肩包男Kyrie欧文篮球包 运动训练学生背包旅行包书包大        \n 106 \t  59.00   \t          电脑背包男士双肩包旅行大容量时尚潮流高中初中学生书包女大学生          \n 107 \t  549.00  \t      Samsonite/新秀丽学院风双肩包男背包 商务男士旅行包潮流书包TQ5       \n 108 \t  599.00  \t        美国crocs2020品牌双肩包女黑色防水尼龙抽带大容量休闲背包书包        \n 109 \t 1498.00  \t      【明星同款】英国AnythingStudio小学生书包双肩包英伦日本风超轻       \n 110 \t  498.00  \t        ito双肩包男商务设计师电脑包14寸女潮流书包ins风小背包时尚百搭        \n 111 \t  69.90   \t         大脸兔牛津布双肩包女2020新款韩版尼龙百搭旅行防水超轻背包书包         \n 112 \t  298.00  \t        爆款anello日本ins潮风乐天双肩包女背包男离家出走包大学生书包        \n 113 \t  169.00  \t     【直营】adidas阿迪达斯大童 蓝色DW4281 K CL IN 双肩儿童书包     \n 114 \t  319.00  \t          瑞士军士刀瑞戈旅行双肩包瑞士书包大容量商务出差电脑背包男防盗          \n 115 \t  109.00  \t        迪士尼小学生书包减负轻便儿童超轻1-3-4-6三到六年级护脊女男童5        \n 116 \t  299.90  \t         迪卡侬休闲旅行包出差大容量户外防雨罩男女书包登山包双肩包FOR3         \n 117 \t  49.90   \t         迪卡侬旗舰店儿童运动背包男女青少年登山包双肩包学生书包QUJR          \n 118 \t  998.00  \t   Herschel Little America 春夏新色双肩包男背包书包潮流10014    \n 119 \t  598.00  \t     Herschel Dawson 双肩包男书包女ins风潮牌街头背包欧美10233     \n 120 \t  749.00  \t      kipling女大容量背包春夏新款时尚简约潮书包双肩包|CAYENNE系列       \n 121 \t  358.00  \t       JanSport旗舰店官网女双肩背包学生书包电脑包男背包 3P6X008       \n 122 \t  288.00  \t       【新品】JanSport杰斯伯双肩包女大学生书包男休闲背包4QUT04S       \n 123 \t  398.00  \t     kipling男女大容量电脑背包2020年新款旅行包书包双肩包|BACKPACK     \n 124 \t  168.00  \t        迪士尼小学生书包男童女童1-3-4一三四年级蜘蛛侠儿童减负双肩包6         \n 125 \t  118.00  \t         凯蒂猫小学生书包女童1-3-4三年级女孩护脊太空减负儿童双肩背包         \n 126 \t  179.00  \t        不莱玫2020新款迪士尼书包时尚复古ins风小背包女双肩包迷你小包         \n 127 \t  179.00  \t          迪士尼商店 迪士尼公主冰雪奇缘蜘蛛侠玩具总动员儿童书包学生           \n 128 \t  139.00  \t          花花公子男士双肩包时尚潮流休闲初中学生书包大学生电脑旅行背包          \n 129 \t  289.00  \t     Nike耐克背包男包女包TANJUN学生书包简约旅游双肩包BA6097-436      \n 130 \t  159.00  \t     Nike 耐克官方NIKE ELEMENTAL儿童双肩包 书包\\nBA6030      \n 131 \t  189.00  \t       uek书包小学生男童女孩1-3-5一年级儿童书包男6-12岁轻便双肩背包       \n 132 \t  178.00  \t          牛津大学书包小学生男孩一二年级三到六儿童减负护脊轻便双肩女四          \n已完成\n"
    }
   ],
   "source": [
    "for i in range(page):\n",
    "    html = gethtml(url,page)\n",
    "    info_list.extend(parsehtml(html))  # extend() 函数用于在列表末尾一次性追加另一个序列中的多个值（用新列表扩展原来的列表）。\n",
    "printlist(info_list)\n",
    "print('已完成')"
   ]
  },
  {
   "cell_type": "code",
   "execution_count": null,
   "metadata": {},
   "outputs": [],
   "source": []
  }
 ],
 "metadata": {
  "language_info": {
   "codemirror_mode": {
    "name": "ipython",
    "version": 3
   },
   "file_extension": ".py",
   "mimetype": "text/x-python",
   "name": "python",
   "nbconvert_exporter": "python",
   "pygments_lexer": "ipython3",
   "version": "3.7.4-final"
  },
  "orig_nbformat": 2,
  "kernelspec": {
   "name": "python37464bitbaseconda9607f4e17a1f4ae6a62485bba290fd86",
   "display_name": "Python 3.7.4 64-bit ('base': conda)"
  }
 },
 "nbformat": 4,
 "nbformat_minor": 2
}