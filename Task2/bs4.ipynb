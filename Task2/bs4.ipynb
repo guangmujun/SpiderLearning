{
 "cells": [
  {
   "cell_type": "markdown",
   "metadata": {},
   "source": [
    "## Beautiful Soup入门\n",
    "### 基本介绍\n",
    "1. Beautiful Soup 是一个HTML/XML 的解析器，主要用于解析和提取 HTML/XML 数据。\n",
    "2. 它基于HTML DOM 的，会载入整个文档，解析整个DOM树，因此时间和内存开销都会大很多，所以性能要低于lxml。\n",
    "3. 虽然说BeautifulSoup4 简单容易比较上手，但是匹配效率还是远远不如正则以及xpath的，一般不推荐使用，推荐正则的使用。\n",
    "### 基本元素\n",
    "- Tag 标签，最基本的信息组织单元，分别用<>和</>标明开头和结尾；\n",
    "- Name 标签的名字，名字是'p'，格式：<tag>.name;\n",
    "- Attributes 标签的属性，字典形式组织，格式：<tag>.attrs;\n",
    "- NavigableString 标签内非属性字符串，<>…</>中字符串，格式：<tag>.string;\n",
    "- Comment 标签内字符串的注释部分，一种特殊的Comment类型;"
   ]
  },
  {
   "cell_type": "code",
   "execution_count": 2,
   "metadata": {},
   "outputs": [
    {
     "output_type": "execute_result",
     "data": {
      "text/plain": "'<html><head><title>This is a python demo page</title></head>\\r\\n<body>\\r\\n<p class=\"title\"><b>The demo python introduces several python courses.</b></p>\\r\\n<p class=\"course\">Python is a wonderful general-purpose programming language. You can learn Python from novice to professional by tracking the following courses:\\r\\n<a href=\"http://www.icourse163.org/course/BIT-268001\" class=\"py1\" id=\"link1\">Basic Python</a> and <a href=\"http://www.icourse163.org/course/BIT-1001870001\" class=\"py2\" id=\"link2\">Advanced Python</a>.</p>\\r\\n</body></html>'"
     },
     "metadata": {},
     "execution_count": 2
    }
   ],
   "source": [
    "from bs4 import BeautifulSoup\n",
    "import requests\n",
    "\n",
    "r = requests.get('https://python123.io/ws/demo.html')\n",
    "demo = r.text\n",
    "demo"
   ]
  },
  {
   "cell_type": "code",
   "execution_count": 3,
   "metadata": {},
   "outputs": [
    {
     "output_type": "stream",
     "name": "stdout",
     "text": "<html>\n <head>\n  <title>\n   This is a python demo page\n  </title>\n </head>\n <body>\n  <p class=\"title\">\n   <b>\n    The demo python introduces several python courses.\n   </b>\n  </p>\n  <p class=\"course\">\n   Python is a wonderful general-purpose programming language. You can learn Python from novice to professional by tracking the following courses:\n   <a class=\"py1\" href=\"http://www.icourse163.org/course/BIT-268001\" id=\"link1\">\n    Basic Python\n   </a>\n   and\n   <a class=\"py2\" href=\"http://www.icourse163.org/course/BIT-1001870001\" id=\"link2\">\n    Advanced Python\n   </a>\n   .\n  </p>\n </body>\n</html>\n"
    }
   ],
   "source": [
    "# bs4解析HTML\n",
    "soup = BeautifulSoup(demo, 'html.parser')   \n",
    "print(soup.prettify())"
   ]
  },
  {
   "cell_type": "code",
   "execution_count": 4,
   "metadata": {},
   "outputs": [
    {
     "output_type": "execute_result",
     "data": {
      "text/plain": "<a class=\"py1\" href=\"http://www.icourse163.org/course/BIT-268001\" id=\"link1\">Basic Python</a>"
     },
     "metadata": {},
     "execution_count": 4
    }
   ],
   "source": [
    "# 访问标签a\n",
    "soup.a"
   ]
  },
  {
   "cell_type": "code",
   "execution_count": 5,
   "metadata": {},
   "outputs": [
    {
     "output_type": "execute_result",
     "data": {
      "text/plain": "<title>This is a python demo page</title>"
     },
     "metadata": {},
     "execution_count": 5
    }
   ],
   "source": [
    "# 访问标签title\n",
    "soup.title"
   ]
  },
  {
   "cell_type": "code",
   "execution_count": 6,
   "metadata": {},
   "outputs": [
    {
     "output_type": "execute_result",
     "data": {
      "text/plain": "'a'"
     },
     "metadata": {},
     "execution_count": 6
    }
   ],
   "source": [
    "# 访问标签的name\n",
    "soup.a.name\n"
   ]
  },
  {
   "cell_type": "code",
   "execution_count": 7,
   "metadata": {},
   "outputs": [
    {
     "output_type": "execute_result",
     "data": {
      "text/plain": "'p'"
     },
     "metadata": {},
     "execution_count": 7
    }
   ],
   "source": [
    "soup.a.parent.name  # the parent's name of tag a"
   ]
  },
  {
   "cell_type": "code",
   "execution_count": 8,
   "metadata": {},
   "outputs": [
    {
     "output_type": "execute_result",
     "data": {
      "text/plain": "'body'"
     },
     "metadata": {},
     "execution_count": 8
    }
   ],
   "source": [
    "soup.p.parent.name"
   ]
  },
  {
   "cell_type": "code",
   "execution_count": 9,
   "metadata": {},
   "outputs": [
    {
     "output_type": "stream",
     "name": "stdout",
     "text": "{'href': 'http://www.icourse163.org/course/BIT-268001', 'class': ['py1'], 'id': 'link1'}\n['py1']\n<class 'dict'>\n"
    }
   ],
   "source": [
    "# attrs of tag\n",
    "tag = soup.a\n",
    "print(tag.attrs)\n",
    "print(tag.attrs['class'])\n",
    "print(type(tag.attrs))"
   ]
  },
  {
   "cell_type": "code",
   "execution_count": 10,
   "metadata": {},
   "outputs": [
    {
     "output_type": "stream",
     "name": "stdout",
     "text": "Basic Python\n<class 'bs4.element.NavigableString'>\n"
    }
   ],
   "source": [
    "# tag内非attrs的string,即tag的value\n",
    "print(soup.a.string)\n",
    "print(type(soup.a.string))"
   ]
  },
  {
   "cell_type": "markdown",
   "metadata": {},
   "source": [
    "### 基于bs4的HTML内容遍历方法\n",
    "1. 标签树的下行遍历\n",
    "    - contents 子节点的列表，将<tag>所有儿子节点存入列表\n",
    "    - children 子节点的迭代类型，与.contents类似，用于循环遍历儿子节点\n",
    "    - descendants 子孙节点的迭代类型，包含所有子孙节点，用于循环遍历\n",
    "2. 标签树的上行遍\n",
    "    - parent 节点的父亲标签\n",
    "    - parents 节点先辈标签的迭代类型，用于循环遍历先辈节点\n",
    "3. 标签树的平行遍历\n",
    "    - next_sibling 返回按照HTML文本顺序的下一个平行节点标签\n",
    "    - previous_sibling 返回按照HTML文本顺序的上一个平行节点标签\n",
    "    - next_siblings 迭代类型，返回按照HTML文本顺序的后续所有平行节点标签\n",
    "    - previous_siblings 迭代类型，返回按照HTML文本顺序的前续所有平行节点标签\n",
    "4. 详见：https://www.cnblogs.com/mengxiaoleng/p/11585754.html#_label0"
   ]
  },
  {
   "cell_type": "markdown",
   "metadata": {},
   "source": [
    "**标签树下行遍历**"
   ]
  },
  {
   "cell_type": "code",
   "execution_count": 15,
   "metadata": {},
   "outputs": [
    {
     "output_type": "stream",
     "name": "stdout",
     "text": "<html>\n <head>\n  <title>\n   This is a python demo page\n  </title>\n </head>\n <body>\n  <p class=\"title\">\n   <b>\n    The demo python introduces several python courses.\n   </b>\n  </p>\n  <p class=\"course\">\n   Python is a wonderful general-purpose programming language. You can learn Python from novice to professional by tracking the following courses:\n   <a class=\"py1\" href=\"http://www.icourse163.org/course/BIT-268001\" id=\"link1\">\n    Basic Python\n   </a>\n   and\n   <a class=\"py2\" href=\"http://www.icourse163.org/course/BIT-1001870001\" id=\"link2\">\n    Advanced Python\n   </a>\n   .\n  </p>\n </body>\n</html>\n"
    }
   ],
   "source": [
    "import requests\n",
    "from bs4 import BeautifulSoup\n",
    "\n",
    "r = requests.get('http://python123.io/ws/demo.html')\n",
    "demo = r.text\n",
    "soup = BeautifulSoup(demo, 'html.parser')\n",
    "print(soup.prettify())"
   ]
  },
  {
   "cell_type": "code",
   "execution_count": 18,
   "metadata": {},
   "outputs": [
    {
     "output_type": "stream",
     "name": "stdout",
     "text": "[<html><head><title>This is a python demo page</title></head>\n<body>\n<p class=\"title\"><b>The demo python introduces several python courses.</b></p>\n<p class=\"course\">Python is a wonderful general-purpose programming language. You can learn Python from novice to professional by tracking the following courses:\n<a class=\"py1\" href=\"http://www.icourse163.org/course/BIT-268001\" id=\"link1\">Basic Python</a> and <a class=\"py2\" href=\"http://www.icourse163.org/course/BIT-1001870001\" id=\"link2\">Advanced Python</a>.</p>\n</body></html>]\n"
    }
   ],
   "source": [
    "# 标签树的儿子节点\n",
    "print(soup.contents)"
   ]
  },
  {
   "cell_type": "code",
   "execution_count": 19,
   "metadata": {},
   "outputs": [
    {
     "output_type": "stream",
     "name": "stdout",
     "text": "None\n"
    }
   ],
   "source": [
    "# body下没有直接的节点\n",
    "print(soup.body.content)"
   ]
  },
  {
   "cell_type": "code",
   "execution_count": 20,
   "metadata": {},
   "outputs": [
    {
     "output_type": "stream",
     "name": "stdout",
     "text": "<head><title>This is a python demo page</title></head>\n"
    }
   ],
   "source": [
    "print(soup.head)"
   ]
  },
  {
   "cell_type": "code",
   "execution_count": 21,
   "metadata": {},
   "outputs": [
    {
     "output_type": "stream",
     "name": "stdout",
     "text": "\n\n<p class=\"title\"><b>The demo python introduces several python courses.</b></p>\n\n\n<p class=\"course\">Python is a wonderful general-purpose programming language. You can learn Python from novice to professional by tracking the following courses:\n<a class=\"py1\" href=\"http://www.icourse163.org/course/BIT-268001\" id=\"link1\">Basic Python</a> and <a class=\"py2\" href=\"http://www.icourse163.org/course/BIT-1001870001\" id=\"link2\">Advanced Python</a>.</p>\n\n\n"
    }
   ],
   "source": [
    "for child in soup.body.children:  # 遍历子孙节点\n",
    "    print(child)"
   ]
  },
  {
   "cell_type": "code",
   "execution_count": 22,
   "metadata": {},
   "outputs": [
    {
     "output_type": "stream",
     "name": "stdout",
     "text": "\n\n<p class=\"title\"><b>The demo python introduces several python courses.</b></p>\n<b>The demo python introduces several python courses.</b>\nThe demo python introduces several python courses.\n\n\n<p class=\"course\">Python is a wonderful general-purpose programming language. You can learn Python from novice to professional by tracking the following courses:\n<a class=\"py1\" href=\"http://www.icourse163.org/course/BIT-268001\" id=\"link1\">Basic Python</a> and <a class=\"py2\" href=\"http://www.icourse163.org/course/BIT-1001870001\" id=\"link2\">Advanced Python</a>.</p>\nPython is a wonderful general-purpose programming language. You can learn Python from novice to professional by tracking the following courses:\n\n<a class=\"py1\" href=\"http://www.icourse163.org/course/BIT-268001\" id=\"link1\">Basic Python</a>\nBasic Python\n and \n<a class=\"py2\" href=\"http://www.icourse163.org/course/BIT-1001870001\" id=\"link2\">Advanced Python</a>\nAdvanced Python\n.\n\n\n"
    }
   ],
   "source": [
    "for child in soup.body.descendants:\n",
    "    print(child)"
   ]
  },
  {
   "cell_type": "markdown",
   "metadata": {},
   "source": [
    "**标签树上行遍历**"
   ]
  },
  {
   "cell_type": "code",
   "execution_count": 23,
   "metadata": {},
   "outputs": [
    {
     "output_type": "execute_result",
     "data": {
      "text/plain": "<head><title>This is a python demo page</title></head>"
     },
     "metadata": {},
     "execution_count": 23
    }
   ],
   "source": [
    "soup.title.parent"
   ]
  },
  {
   "cell_type": "code",
   "execution_count": 27,
   "metadata": {},
   "outputs": [
    {
     "output_type": "execute_result",
     "data": {
      "text/plain": "<p class=\"course\">Python is a wonderful general-purpose programming language. You can learn Python from novice to professional by tracking the following courses:\n<a class=\"py1\" href=\"http://www.icourse163.org/course/BIT-268001\" id=\"link1\">Basic Python</a> and <a class=\"py2\" href=\"http://www.icourse163.org/course/BIT-1001870001\" id=\"link2\">Advanced Python</a>.</p>"
     },
     "metadata": {},
     "execution_count": 27
    }
   ],
   "source": [
    "soup.a.parent"
   ]
  },
  {
   "cell_type": "code",
   "execution_count": 34,
   "metadata": {},
   "outputs": [
    {
     "output_type": "stream",
     "name": "stdout",
     "text": "====================\n<p class=\"course\">Python is a wonderful general-purpose programming language. You can learn Python from novice to professional by tracking the following courses:\n<a class=\"py1\" href=\"http://www.icourse163.org/course/BIT-268001\" id=\"link1\">Basic Python</a> and <a class=\"py2\" href=\"http://www.icourse163.org/course/BIT-1001870001\" id=\"link2\">Advanced Python</a>.</p>\n--------------------\np\n====================\n<body>\n<p class=\"title\"><b>The demo python introduces several python courses.</b></p>\n<p class=\"course\">Python is a wonderful general-purpose programming language. You can learn Python from novice to professional by tracking the following courses:\n<a class=\"py1\" href=\"http://www.icourse163.org/course/BIT-268001\" id=\"link1\">Basic Python</a> and <a class=\"py2\" href=\"http://www.icourse163.org/course/BIT-1001870001\" id=\"link2\">Advanced Python</a>.</p>\n</body>\n--------------------\nbody\n====================\n<html><head><title>This is a python demo page</title></head>\n<body>\n<p class=\"title\"><b>The demo python introduces several python courses.</b></p>\n<p class=\"course\">Python is a wonderful general-purpose programming language. You can learn Python from novice to professional by tracking the following courses:\n<a class=\"py1\" href=\"http://www.icourse163.org/course/BIT-268001\" id=\"link1\">Basic Python</a> and <a class=\"py2\" href=\"http://www.icourse163.org/course/BIT-1001870001\" id=\"link2\">Advanced Python</a>.</p>\n</body></html>\n--------------------\nhtml\n====================\n<html><head><title>This is a python demo page</title></head>\n<body>\n<p class=\"title\"><b>The demo python introduces several python courses.</b></p>\n<p class=\"course\">Python is a wonderful general-purpose programming language. You can learn Python from novice to professional by tracking the following courses:\n<a class=\"py1\" href=\"http://www.icourse163.org/course/BIT-268001\" id=\"link1\">Basic Python</a> and <a class=\"py2\" href=\"http://www.icourse163.org/course/BIT-1001870001\" id=\"link2\">Advanced Python</a>.</p>\n</body></html>\n--------------------\n[document]\n"
    }
   ],
   "source": [
    "for parent in soup.a.parents:\n",
    "    print('='*20)\n",
    "    print(parent)\n",
    "    print('-'*20)\n",
    "    if parent is None:\n",
    "        print(0)\n",
    "    else:\n",
    "        print(parent.name)"
   ]
  },
  {
   "cell_type": "markdown",
   "metadata": {},
   "source": [
    "**标签树平行遍历**"
   ]
  },
  {
   "cell_type": "code",
   "execution_count": 37,
   "metadata": {},
   "outputs": [
    {
     "output_type": "stream",
     "name": "stdout",
     "text": "<html>\n <head>\n  <title>\n   This is a python demo page\n  </title>\n </head>\n <body>\n  <p class=\"title\">\n   <b>\n    The demo python introduces several python courses.\n   </b>\n  </p>\n  <p class=\"course\">\n   Python is a wonderful general-purpose programming language. You can learn Python from novice to professional by tracking the following courses:\n   <a class=\"py1\" href=\"http://www.icourse163.org/course/BIT-268001\" id=\"link1\">\n    Basic Python\n   </a>\n   and\n   <a class=\"py2\" href=\"http://www.icourse163.org/course/BIT-1001870001\" id=\"link2\">\n    Advanced Python\n   </a>\n   .\n  </p>\n </body>\n</html>\n"
    }
   ],
   "source": [
    "print(soup.prettify())"
   ]
  },
  {
   "cell_type": "code",
   "execution_count": 38,
   "metadata": {},
   "outputs": [
    {
     "output_type": "stream",
     "name": "stdout",
     "text": "and \n"
    }
   ],
   "source": [
    "print(soup.a.next_sibling) # tag a 的下一个tag"
   ]
  },
  {
   "cell_type": "code",
   "execution_count": 39,
   "metadata": {},
   "outputs": [
    {
     "output_type": "stream",
     "name": "stdout",
     "text": "<a class=\"py2\" href=\"http://www.icourse163.org/course/BIT-1001870001\" id=\"link2\">Advanced Python</a>\n"
    }
   ],
   "source": [
    "print(soup.a.next_sibling.next_sibling)#a标签的下一个标签的下一个标签"
   ]
  },
  {
   "cell_type": "code",
   "execution_count": 40,
   "metadata": {},
   "outputs": [
    {
     "output_type": "stream",
     "name": "stdout",
     "text": "Python is a wonderful general-purpose programming language. You can learn Python from novice to professional by tracking the following courses:\n\n"
    }
   ],
   "source": [
    "print(soup.a.previous_sibling)  # a标签的前一个标签"
   ]
  },
  {
   "cell_type": "code",
   "execution_count": 41,
   "metadata": {},
   "outputs": [
    {
     "output_type": "stream",
     "name": "stdout",
     "text": "None\n"
    }
   ],
   "source": [
    "print(soup.a.previous_sibling.previous_sibling)  # a标签的前一个标签的前一个标签"
   ]
  },
  {
   "cell_type": "code",
   "execution_count": 42,
   "metadata": {},
   "outputs": [
    {
     "output_type": "stream",
     "name": "stdout",
     "text": "and \n<a class=\"py2\" href=\"http://www.icourse163.org/course/BIT-1001870001\" id=\"link2\">Advanced Python</a>\n.\n"
    }
   ],
   "source": [
    "# 遍历其父节点范围内的后续节点\n",
    "for sibling in soup.a.next_siblings:\n",
    "    print(sibling)"
   ]
  },
  {
   "cell_type": "code",
   "execution_count": 47,
   "metadata": {},
   "outputs": [
    {
     "output_type": "stream",
     "name": "stdout",
     "text": "Python is a wonderful general-purpose programming language. You can learn Python from novice to professional by tracking the following courses:\n\nP\ny\nt\nh\no\nn\n \ni\ns\n \na\n \nw\no\nn\nd\ne\nr\nf\nu\nl\n \ng\ne\nn\ne\nr\na\nl\n-\np\nu\nr\np\no\ns\ne\n \np\nr\no\ng\nr\na\nm\nm\ni\nn\ng\n \nl\na\nn\ng\nu\na\ng\ne\n.\n \nY\no\nu\n \nc\na\nn\n \nl\ne\na\nr\nn\n \nP\ny\nt\nh\no\nn\n \nf\nr\no\nm\n \nn\no\nv\ni\nc\ne\n \nt\no\n \np\nr\no\nf\ne\ns\ns\ni\no\nn\na\nl\n \nb\ny\n \nt\nr\na\nc\nk\ni\nn\ng\n \nt\nh\ne\n \nf\no\nl\nl\no\nw\ni\nn\ng\n \nc\no\nu\nr\ns\ne\ns\n:\n\n\n\n"
    }
   ],
   "source": [
    "# 遍历之前的节点\n",
    "print(soup.a.previous_sibling)\n",
    "for sibling in soup.a.previous_sibling:  \n",
    "    print(sibling)  # 前面就一个节点，变成了对这个节点字符串的遍历"
   ]
  },
  {
   "cell_type": "markdown",
   "metadata": {},
   "source": [
    "### 基于bs4的HTML内容查找方法\n",
    "1. <>.find_all(name, attrs, recursive, string, **kwargs)\n",
    "\n",
    "参数：\n",
    "- name : 对标签名称的检索字符串\n",
    "- attrs: 对标签属性值的检索字符串，可标注属性检索\n",
    "- recursive: 是否对子孙全部检索，默认True\n",
    "- string: <>…</>中字符串区域的检索字符串\n",
    "    - 简写：\n",
    "    - <tag>(..) 等价于 <tag>.find_all(..)\n",
    "    - soup(..) 等价于 soup.find_all(..)\n",
    "2. 扩展方法：\n",
    "- <>.find() 搜索且只返回一个结果，同.find_all()参数\n",
    "- <>.find_parents() 在先辈节点中搜索，返回列表类型，同.find_all()参数\n",
    "- <>.find_parent() 在先辈节点中返回一个结果，同.find()参数\n",
    "- <>.find_next_siblings() 在后续平行节点中搜索，返回列表类型，同.find_all()参数\n",
    "- <>.find_next_sibling() 在后续平行节点中返回一个结果，同.find()参数\n",
    "- <>.find_previous_siblings() 在前序平行节点中搜索，返回列表类型，同.find_all()参数\n",
    "- <>.find_previous_sibling() 在前序平行节点中返回一个结果，同.find()参数"
   ]
  },
  {
   "cell_type": "code",
   "execution_count": 49,
   "metadata": {},
   "outputs": [
    {
     "output_type": "stream",
     "name": "stdout",
     "text": "<html>\n <head>\n  <title>\n   This is a python demo page\n  </title>\n </head>\n <body>\n  <p class=\"title\">\n   <b>\n    The demo python introduces several python courses.\n   </b>\n  </p>\n  <p class=\"course\">\n   Python is a wonderful general-purpose programming language. You can learn Python from novice to professional by tracking the following courses:\n   <a class=\"py1\" href=\"http://www.icourse163.org/course/BIT-268001\" id=\"link1\">\n    Basic Python\n   </a>\n   and\n   <a class=\"py2\" href=\"http://www.icourse163.org/course/BIT-1001870001\" id=\"link2\">\n    Advanced Python\n   </a>\n   .\n  </p>\n </body>\n</html>\n"
    }
   ],
   "source": [
    "import requests\n",
    "from bs4 import BeautifulSoup\n",
    "\n",
    "r = requests.get('http://python123.io/ws/demo.html')\n",
    "demo = r.text\n",
    "soup = BeautifulSoup(demo,'html.parser')\n",
    "print(soup.prettify())"
   ]
  },
  {
   "cell_type": "code",
   "execution_count": 50,
   "metadata": {},
   "outputs": [
    {
     "output_type": "execute_result",
     "data": {
      "text/plain": "[<a class=\"py1\" href=\"http://www.icourse163.org/course/BIT-268001\" id=\"link1\">Basic Python</a>,\n <a class=\"py2\" href=\"http://www.icourse163.org/course/BIT-1001870001\" id=\"link2\">Advanced Python</a>]"
     },
     "metadata": {},
     "execution_count": 50
    }
   ],
   "source": [
    "# 对标签名称的检索字符串\n",
    "soup.find_all('a')"
   ]
  },
  {
   "cell_type": "code",
   "execution_count": 51,
   "metadata": {},
   "outputs": [
    {
     "output_type": "execute_result",
     "data": {
      "text/plain": "[<p class=\"title\"><b>The demo python introduces several python courses.</b></p>,\n <p class=\"course\">Python is a wonderful general-purpose programming language. You can learn Python from novice to professional by tracking the following courses:\n <a class=\"py1\" href=\"http://www.icourse163.org/course/BIT-268001\" id=\"link1\">Basic Python</a> and <a class=\"py2\" href=\"http://www.icourse163.org/course/BIT-1001870001\" id=\"link2\">Advanced Python</a>.</p>,\n <a class=\"py1\" href=\"http://www.icourse163.org/course/BIT-268001\" id=\"link1\">Basic Python</a>,\n <a class=\"py2\" href=\"http://www.icourse163.org/course/BIT-1001870001\" id=\"link2\">Advanced Python</a>]"
     },
     "metadata": {},
     "execution_count": 51
    }
   ],
   "source": [
    "soup.find_all(['a', 'p'])"
   ]
  },
  {
   "cell_type": "code",
   "execution_count": 53,
   "metadata": {},
   "outputs": [
    {
     "output_type": "execute_result",
     "data": {
      "text/plain": "[<p class=\"title\"><b>The demo python introduces several python courses.</b></p>,\n <p class=\"course\">Python is a wonderful general-purpose programming language. You can learn Python from novice to professional by tracking the following courses:\n <a class=\"py1\" href=\"http://www.icourse163.org/course/BIT-268001\" id=\"link1\">Basic Python</a> and <a class=\"py2\" href=\"http://www.icourse163.org/course/BIT-1001870001\" id=\"link2\">Advanced Python</a>.</p>]"
     },
     "metadata": {},
     "execution_count": 53
    }
   ],
   "source": [
    "# 对标签属性值的检索字符串,指定属性名称\n",
    "soup.find_all('p')"
   ]
  },
  {
   "cell_type": "code",
   "execution_count": 54,
   "metadata": {},
   "outputs": [
    {
     "output_type": "execute_result",
     "data": {
      "text/plain": "[<p class=\"course\">Python is a wonderful general-purpose programming language. You can learn Python from novice to professional by tracking the following courses:\n <a class=\"py1\" href=\"http://www.icourse163.org/course/BIT-268001\" id=\"link1\">Basic Python</a> and <a class=\"py2\" href=\"http://www.icourse163.org/course/BIT-1001870001\" id=\"link2\">Advanced Python</a>.</p>]"
     },
     "metadata": {},
     "execution_count": 54
    }
   ],
   "source": [
    "soup.find_all('p', 'course')"
   ]
  },
  {
   "cell_type": "code",
   "execution_count": 55,
   "metadata": {},
   "outputs": [
    {
     "output_type": "execute_result",
     "data": {
      "text/plain": "[]"
     },
     "metadata": {},
     "execution_count": 55
    }
   ],
   "source": [
    "soup.find_all(id='link')"
   ]
  },
  {
   "cell_type": "code",
   "execution_count": 56,
   "metadata": {},
   "outputs": [
    {
     "output_type": "execute_result",
     "data": {
      "text/plain": "[]"
     },
     "metadata": {},
     "execution_count": 56
    }
   ],
   "source": [
    "#  recursive: 是否对子孙全部检索，默认True\n",
    "soup.find_all('p',recursive=False)"
   ]
  },
  {
   "cell_type": "code",
   "execution_count": 57,
   "metadata": {},
   "outputs": [
    {
     "output_type": "execute_result",
     "data": {
      "text/plain": "['Basic Python']"
     },
     "metadata": {},
     "execution_count": 57
    }
   ],
   "source": [
    "# string: <>…</>中字符串区域的检索字符串\n",
    "soup.find_all(string = \"Basic Python\") # 完全匹配才能匹配到"
   ]
  },
  {
   "cell_type": "markdown",
   "metadata": {},
   "source": [
    "### 实战：中国大学排名定向爬取\n"
   ]
  },
  {
   "cell_type": "code",
   "execution_count": 58,
   "metadata": {},
   "outputs": [],
   "source": [
    "import requests\n",
    "from bs4 import BeautifulSoup\n",
    "import bs4"
   ]
  },
  {
   "cell_type": "code",
   "execution_count": 70,
   "metadata": {
    "tags": [
     "outputPrepend"
    ]
   },
   "outputs": [],
   "source": [
    "r = requests.get('http://www.zuihaodaxue.cn/zuihaodaxuepaiming2019.html')\n",
    "r.encoding='utf-8'  # 解决中文乱码问题\n",
    "demo = r.text\n",
    "soup = BeautifulSoup(demo,'html.parser')"
   ]
  },
  {
   "cell_type": "code",
   "execution_count": 74,
   "metadata": {
    "tags": [
     "outputPrepend"
    ]
   },
   "outputs": [
    {
     "output_type": "stream",
     "name": "stdout",
     "text": "<tr class=\"alt\"><td>1</td><td><div align=\"left\">清华大学</div></td><td>北京</td><td>94.6</td><td class=\"hidden-xs need-hidden indicator5\">100.0</td><td class=\"hidden-xs need-hidden indicator6\" style=\"display: none;\">98.30%</td><td class=\"hidden-xs need-hidden indicator7\" style=\"display: none;\">1589319</td><td class=\"hidden-xs need-hidden indicator8\" style=\"display: none;\">48698</td><td class=\"hidden-xs need-hidden indicator9\" style=\"display: none;\">1.512</td><td class=\"hidden-xs need-hidden indicator10\" style=\"display: none;\">1810</td><td class=\"hidden-xs need-hidden indicator11\" style=\"display: none;\">126</td><td class=\"hidden-xs need-hidden indicator12\" style=\"display: none;\">1697330</td><td class=\"hidden-xs need-hidden indicator13\" style=\"display: none;\">302898</td><td class=\"hidden-xs need-hidden indicator14\" style=\"display: none;\">6.81%</td></tr>\n<class 'bs4.element.Tag'>\n"
    }
   ],
   "source": [
    "print(soup.find_all('tr', 'alt')[0])\n",
    "print(type(soup.find_all('tr', 'alt')[0]))"
   ]
  },
  {
   "cell_type": "code",
   "execution_count": 88,
   "metadata": {},
   "outputs": [
    {
     "output_type": "execute_result",
     "data": {
      "text/plain": "['1', '清华大学', '北京', '94.6']"
     },
     "metadata": {},
     "execution_count": 88
    }
   ],
   "source": [
    "content = soup.find_all('tr', 'alt')[0]\n",
    "a = [td.string for td in content]\n",
    "a[:4]"
   ]
  },
  {
   "cell_type": "code",
   "execution_count": 102,
   "metadata": {
    "tags": [
     "outputPrepend"
    ]
   },
   "outputs": [],
   "source": [
    "infos = []\n",
    "contents = soup.find_all('tr', 'alt')\n",
    "for content in contents:\n",
    "    info = {}\n",
    "    cont = [td.string for td in content]\n",
    "    info['rank'] = cont[0]\n",
    "    info['school'] = cont[1]\n",
    "    info['score'] = cont[3]\n",
    "    infos.append(info)"
   ]
  },
  {
   "cell_type": "code",
   "execution_count": 104,
   "metadata": {},
   "outputs": [
    {
     "output_type": "stream",
     "name": "stdout",
     "text": "排名\t学校名称\t总分\n1 \t 清华大学 \t 94.6\n2 \t 北京大学 \t 76.5\n3 \t 浙江大学 \t 72.9\n4 \t 上海交通大学 \t 72.1\n5 \t 复旦大学 \t 65.6\n6 \t 中国科学技术大学 \t 60.9\n7 \t 华中科技大学 \t 58.9\n7 \t 南京大学 \t 58.9\n9 \t 中山大学 \t 58.2\n10 \t 哈尔滨工业大学 \t 56.7\n11 \t 北京航空航天大学 \t 56.3\n12 \t 武汉大学 \t 56.2\n13 \t 同济大学 \t 55.7\n14 \t 西安交通大学 \t 55.0\n15 \t 四川大学 \t 54.4\n16 \t 北京理工大学 \t 54.0\n17 \t 东南大学 \t 53.6\n18 \t 南开大学 \t 52.8\n19 \t 天津大学 \t 52.3\n20 \t 华南理工大学 \t 52.0\n21 \t 中南大学 \t 50.3\n22 \t 北京师范大学 \t 49.7\n23 \t 山东大学 \t 49.1\n23 \t 厦门大学 \t 49.1\n25 \t 吉林大学 \t 48.9\n26 \t 大连理工大学 \t 48.6\n27 \t 电子科技大学 \t 48.4\n28 \t 湖南大学 \t 48.1\n29 \t 苏州大学 \t 47.3\n30 \t 西北工业大学 \t 46.7\n"
    }
   ],
   "source": [
    "print('排名\\t学校名称\\t总分')\n",
    "for info in infos[:30]:\n",
    "    print(info['rank'], '\\t', info['school'], '\\t', info['score'])"
   ]
  },
  {
   "cell_type": "code",
   "execution_count": 79,
   "metadata": {},
   "outputs": [
    {
     "output_type": "execute_result",
     "data": {
      "text/plain": "[1, 2, 45, 5]"
     },
     "metadata": {},
     "execution_count": 79
    }
   ],
   "source": []
  },
  {
   "cell_type": "code",
   "execution_count": null,
   "metadata": {},
   "outputs": [],
   "source": []
  }
 ],
 "metadata": {
  "language_info": {
   "codemirror_mode": {
    "name": "ipython",
    "version": 3
   },
   "file_extension": ".py",
   "mimetype": "text/x-python",
   "name": "python",
   "nbconvert_exporter": "python",
   "pygments_lexer": "ipython3",
   "version": "3.7.4-final"
  },
  "orig_nbformat": 2,
  "kernelspec": {
   "name": "python37464bitbaseconda9607f4e17a1f4ae6a62485bba290fd86",
   "display_name": "Python 3.7.4 64-bit ('base': conda)"
  }
 },
 "nbformat": 4,
 "nbformat_minor": 2
}