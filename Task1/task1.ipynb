{
 "cells": [
  {
   "cell_type": "markdown",
   "metadata": {},
   "source": [
    "# Python爬虫实战\n",
    "## 基本概念\n",
    "### 开发者工具\n",
    "- Elements：允许用户从浏览器的角度来观察网页，用户可以借此看到Chrome渲染页面所需要的HTML、CSS和DOM（Document Object Model）对象。\n",
    "- Network：可以看到网页向服务气请求了哪些资源、资源的大小以及加载资源的相关信息。此外，还可以查看HTTP的请求头、返回内容等。\n",
    "- Source：即源代码面板，主要用来调试JavaScript。\n",
    "- Console：即控制台面板，可以显示各种警告与错误信息。在开发期间，可以使用控制台面板记录诊断信息，或者使用它作为shell在页面上与JavaScript交互。\n",
    "- Performance：使用这个模块可以记录和查看网站生命周期内发生的各种事情来提高页面运行时的性能。\n",
    "- Memory：这个面板可以提供比Performance更多的信息，比如跟踪内存泄漏。\n",
    "- Application：检查加载的所有资源。\n",
    "- Security：即安全面板，可以用来处理证书问题等。\n",
    "\n",
    "## 实际应用\n",
    "### 爬取python之禅(GET) \n"
   ]
  },
  {
   "cell_type": "code",
   "execution_count": 4,
   "metadata": {},
   "outputs": [],
   "source": [
    "import requests\n",
    "url = 'https://www.python.org/dev/peps/pep-0020/'\n",
    "res = requests.get(url)\n",
    "text = res.text"
   ]
  },
  {
   "cell_type": "markdown",
   "metadata": {},
   "source": [
    "利用python内置find函数定位python之禅\n",
    "\n",
    "1. 通过审查元素，使用快捷键Ctrl+shift+c快速定位到这段话，也可以发现这段话包围\n",
    "在pre标签中`<pre class=\"literal-block\">`\n",
    "2. `<pre>`标签可定义预格式化的文本。被包围在`<pre>`标签元素中的文本通常会保留空格和换行符。而文本也会呈现为等宽字体。\n",
    "\n",
    "find函数返回所查找字符串**开始的索引值**，`text.find('<pre')+28`中的数字28是为了去除这一行`<pre class=\"literal-block\">`"
   ]
  },
  {
   "cell_type": "code",
   "execution_count": 42,
   "metadata": {},
   "outputs": [
    {
     "output_type": "stream",
     "name": "stdout",
     "text": "23529\n24380\n23557\n24379\n<pre class=\"literal-block\">\nBeautiful is better than ugly.\nExplicit is better than implicit.\nSimple is better than complex.\nComplex is better than complicated.\nFlat is better than nested.\nSparse is better than dense.\nReadability counts.\nSpecial cases aren't special enough to break the rules.\nAlthough practicality beats purity.\nErrors should never pass silently.\nUnless explicitly silenced.\nIn the face of ambiguity, refuse the temptation to guess.\nThere should be one-- and preferably only one --obvious way to do it.\nAlthough that way may not be obvious at first unless you're Dutch.\nNow is better than never.\nAlthough never is often better than *right* now.\nIf the implementation is hard to explain, it's a bad idea.\nIf the implementation is easy to explain, it may be a good idea.\nNamespaces are one honking great idea -- let's do more of those!\n\nBeautiful is better than ugly.\nExplicit is better than implicit.\nSimple is better than complex.\nComplex is better than complicated.\nFlat is better than nested.\nSparse is better than dense.\nReadability counts.\nSpecial cases aren't special enough to break the rules.\nAlthough practicality beats purity.\nErrors should never pass silently.\nUnless explicitly silenced.\nIn the face of ambiguity, refuse the temptation to guess.\nThere should be one-- and preferably only one --obvious way to do it.\nAlthough that way may not be obvious at first unless you're Dutch.\nNow is better than never.\nAlthough never is often better than *right* now.\nIf the implementation is hard to explain, it's a bad idea.\nIf the implementation is easy to explain, it may be a good idea.\nNamespaces are one honking great idea -- let's do more of those!\n"
    }
   ],
   "source": [
    "print(text.find('<pre'))\n",
    "print(text.find('</pre>'))\n",
    "print(text.find('<pre')+28)\n",
    "print(text.find('</pre>')-1)\n",
    "print(text[text.find('<pre'):text.find('</pre>')])\n",
    "print(text[text.find('<pre')+28 : text.find('</pre>')-1])"
   ]
  },
  {
   "cell_type": "code",
   "execution_count": 12,
   "metadata": {},
   "outputs": [],
   "source": [
    "with open('zone_of_python.txt', 'w') as f:\n",
    "    f.write(text[text.find('<pre') + 28:text.find('</pre') -1])"
   ]
  },
  {
   "cell_type": "markdown",
   "metadata": {},
   "source": [
    "利用python自带的urllib完成以上操作："
   ]
  },
  {
   "cell_type": "code",
   "execution_count": 13,
   "metadata": {},
   "outputs": [
    {
     "output_type": "stream",
     "name": "stdout",
     "text": "Beautiful is better than ugly.\nExplicit is better than implicit.\nSimple is better than complex.\nComplex is better than complicated.\nFlat is better than nested.\nSparse is better than dense.\nReadability counts.\nSpecial cases aren't special enough to break the rules.\nAlthough practicality beats purity.\nErrors should never pass silently.\nUnless explicitly silenced.\nIn the face of ambiguity, refuse the temptation to guess.\nThere should be one-- and preferably only one --obvious way to do it.\nAlthough that way may not be obvious at first unless you're Dutch.\nNow is better than never.\nAlthough never is often better than *right* now.\nIf the implementation is hard to explain, it's a bad idea.\nIf the implementation is easy to explain, it may be a good idea.\nNamespaces are one honking great idea -- let's do more of those!\n"
    }
   ],
   "source": [
    "import urllib\n",
    "url = 'https://www.python.org/dev/peps/pep-0020/'\n",
    "res = urllib.request.urlopen(url).read().decode('utf-8')\n",
    "print(res[res.find('<pre')+28:res.find('</pre>')-1])"
   ]
  },
  {
   "cell_type": "markdown",
   "metadata": {},
   "source": [
    "### 爬取金山词霸（POST）\n",
    "1. 首先进入金山词霸首页http://www.iciba.com/\n",
    "2. 然后打开开发者工具下的“Network”，翻译一段话，比如刚刚我们爬到的第一句话“Beautiful is better than ugly.”\n",
    "3. 点击翻译后可以发现Name下多了一项请求方法是POST的数据，文件名为`ajax.php?a=fy`，点击Preview可以发现数据中有我们想要的翻译结果\n",
    "4. 我们目前需要用到的两部分信息是Request Headers中的User-Agent和From Data\n",
    "\n",
    "**注意点：**\n",
    "\n",
    "向接口发送一次翻译请求后，中间睡眠3s，然后再发送请求，否则会被远程主机强制关闭。\n"
   ]
  },
  {
   "cell_type": "code",
   "execution_count": 21,
   "metadata": {},
   "outputs": [
    {
     "output_type": "stream",
     "name": "stdout",
     "text": "美丽胜过丑陋。\n 外显优于内隐..\n 简单胜于复杂。\n 复杂胜于复杂。\n 平比嵌套好..\n 疏而不密..\n可读性计数。\n 特殊情况不足以打破规则。\n 尽管实用性胜过纯度。\n 错误永远不应该悄悄地过去。\n 除非有明确的沉默。\n 面对暧昧，拒绝猜测的诱惑..\n 应该有一种----最好只有一种----明显的办法来做到这一点。\n 虽然这种方式一开始可能不明显，除非你是荷兰人。\n 现在总比永远好。\n 虽然从来没有比现在更好。\n 如果实施很难解释，那是个坏主意。\n 如果实现很容易解释，这可能是个好主意。\n 命名空间是一个伟大的想法-让我们做更多的这些！\n"
    }
   ],
   "source": [
    "import requests\n",
    "import time\n",
    "\n",
    "\n",
    "def translate(word):\n",
    "    url = \"http://fy.iciba.com/ajax.php?a=fy\"  # 网页审查元素中可知\n",
    "    data = {\n",
    "        'f':'auto',\n",
    "        't':'auto',\n",
    "        'w':word,\n",
    "    }\n",
    "    headers = {\n",
    "         'user-agent': 'Mozilla/5.0 (Windows NT 10.0; Win64; x64) AppleWebKit/537.36 (KHTML, like Gecko) Chrome/74.0.3729.169 Safari/537.36'       \n",
    "    }\n",
    "    response = requests.post(url, data=data, headers=headers)\n",
    "    json_data = response.json()\n",
    "    return json_data\n",
    "\n",
    "\n",
    "def run(word):\n",
    "    result = translate(word)['content']['out']  # 从preview中可知\n",
    "    print(result)\n",
    "    return result\n",
    "\n",
    "\n",
    "def main():\n",
    "    with open('zone_of_python.txt') as f:\n",
    "        zh = []\n",
    "        for word in f:\n",
    "            zh.append(run(word))\n",
    "            time.sleep(3)\n",
    "            \n",
    "\n",
    "    with open('zone_of_python_zh-CN.txt', 'w') as g:\n",
    "        for i in zh:\n",
    "            g.write(i + '\\n')\n",
    "\n",
    "\n",
    "if __name__ == '__main__':\n",
    "    main()"
   ]
  },
  {
   "cell_type": "markdown",
   "metadata": {},
   "source": [
    "### 爬取豆瓣电影（GET进阶）\n",
    "![](https://raw.githubusercontent.com/guangmujun/SpiderLearning/master/imgs/1.jpg)"
   ]
  },
  {
   "cell_type": "code",
   "execution_count": 1,
   "metadata": {
    "tags": [
     "outputPrepend",
     "outputPrepend",
     "outputPrepend",
     "outputPrepend",
     "outputPrepend",
     "outputPrepend",
     "outputPrepend",
     "outputPrepend",
     "outputPrepend",
     "outputPrepend",
     "outputPrepend",
     "outputPrepend",
     "outputPrepend",
     "outputPrepend",
     "outputPrepend",
     "outputPrepend"
    ]
   },
   "outputs": [
    {
     "output_type": "stream",
     "name": "stdout",
     "text": "r/public/p616779645.jpg')\n('当幸福来敲门', 'https://img1.doubanio.com/view/photo/s_ratio_poster/public/p1312700628.jpg')\n('怦然心动', 'https://img1.doubanio.com/view/photo/s_ratio_poster/public/p501177648.jpg')\n('触不可及', 'https://img9.doubanio.com/view/photo/s_ratio_poster/public/p1454261925.jpg')\n('蝙蝠侠：黑暗骑士', 'https://img3.doubanio.com/view/photo/s_ratio_poster/public/p462657443.jpg')\n('控方证人', 'https://img1.doubanio.com/view/photo/s_ratio_poster/public/p1505392928.jpg')\n('活着', 'https://img3.doubanio.com/view/photo/s_ratio_poster/public/p2513253791.jpg')\n('乱世佳人', 'https://img3.doubanio.com/view/photo/s_ratio_poster/public/p1963126880.jpg')\n('寻梦环游记', 'https://img1.doubanio.com/view/photo/s_ratio_poster/public/p2503997609.jpg')\n('末代皇帝', 'https://img3.doubanio.com/view/photo/s_ratio_poster/public/p452089833.jpg')\n('摔跤吧！爸爸', 'https://img9.doubanio.com/view/photo/s_ratio_poster/public/p2457983084.jpg')\n('指环王3：王者无敌', 'https://img3.doubanio.com/view/photo/s_ratio_poster/public/p1910825503.jpg')\n('少年派的奇幻漂流', 'https://img3.doubanio.com/view/photo/s_ratio_poster/public/p1784592701.jpg')\n('何以为家', 'https://img1.doubanio.com/view/photo/s_ratio_poster/public/p2555295759.jpg')\n('飞屋环游记', 'https://img9.doubanio.com/view/photo/s_ratio_poster/public/p485887754.jpg')\n('十二怒汉', 'https://img3.doubanio.com/view/photo/s_ratio_poster/public/p2173577632.jpg')\n('鬼子来了', 'https://img1.doubanio.com/view/photo/s_ratio_poster/public/p2553104888.jpg')\n('天空之城', 'https://img1.doubanio.com/view/photo/s_ratio_poster/public/p1446261379.jpg')\n('大话西游之月光宝盒', 'https://img3.doubanio.com/view/photo/s_ratio_poster/public/p2561721372.jpg')\n('哈尔的移动城堡', 'https://img3.doubanio.com/view/photo/s_ratio_poster/public/p2174346180.jpg')\n('素媛', 'https://img9.doubanio.com/view/photo/s_ratio_poster/public/p2118532944.jpg')\n('天堂电影院', 'https://img1.doubanio.com/view/photo/s_ratio_poster/public/p2559577569.jpg')\n('罗马假日', 'https://img9.doubanio.com/view/photo/s_ratio_poster/public/p2189265085.jpg')\n('闻香识女人', 'https://img1.doubanio.com/view/photo/s_ratio_poster/public/p2550757929.jpg')\n('辩护人', 'https://img9.doubanio.com/view/photo/s_ratio_poster/public/p2158166535.jpg')\n('哈利·波特与魔法石', 'https://img9.doubanio.com/view/photo/s_ratio_poster/public/p2591591494.jpg')\n('搏击俱乐部', 'https://img1.doubanio.com/view/photo/s_ratio_poster/public/p1910926158.jpg')\n('我不是药神', 'https://img9.doubanio.com/view/photo/s_ratio_poster/public/p2561305376.jpg')\n('死亡诗社', 'https://img3.doubanio.com/view/photo/s_ratio_poster/public/p2575465690.jpg')\n('教父2', 'https://img1.doubanio.com/view/photo/s_ratio_poster/public/p2194138787.jpg')\n('指环王2：双塔奇兵', 'https://img9.doubanio.com/view/photo/s_ratio_poster/public/p909265336.jpg')\n('狮子王', 'https://img1.doubanio.com/view/photo/s_ratio_poster/public/p2277799019.jpg')\n('窃听风暴', 'https://img1.doubanio.com/view/photo/s_ratio_poster/public/p1808872109.jpg')\n('大闹天宫', 'https://img1.doubanio.com/view/photo/s_ratio_poster/public/p2184505167.jpg')\n('指环王1：魔戒再现', 'https://img3.doubanio.com/view/photo/s_ratio_poster/public/p1354436051.jpg')\n('两杆大烟枪', 'https://img1.doubanio.com/view/photo/s_ratio_poster/public/p792443418.jpg')\n('美丽心灵', 'https://img3.doubanio.com/view/photo/s_ratio_poster/public/p1665997400.jpg')\n('饮食男女', 'https://img3.doubanio.com/view/photo/s_ratio_poster/public/p1910899751.jpg')\n('飞越疯人院', 'https://img1.doubanio.com/view/photo/s_ratio_poster/public/p792238287.jpg')\n('猫鼠游戏', 'https://img3.doubanio.com/view/photo/s_ratio_poster/public/p453924541.jpg')\n('黑客帝国', 'https://img1.doubanio.com/view/photo/s_ratio_poster/public/p451926968.jpg')\n('钢琴家', 'https://img3.doubanio.com/view/photo/s_ratio_poster/public/p792376093.jpg')\n('V字仇杀队', 'https://img3.doubanio.com/view/photo/s_ratio_poster/public/p1465235231.jpg')\n('本杰明·巴顿奇事', 'https://img3.doubanio.com/view/photo/s_ratio_poster/public/p2192535722.jpg')\n('看不见的客人', 'https://img9.doubanio.com/view/photo/s_ratio_poster/public/p2498971355.jpg')\n('让子弹飞', 'https://img1.doubanio.com/view/photo/s_ratio_poster/public/p1512562287.jpg')\n('西西里的美丽传说', 'https://img1.doubanio.com/view/photo/s_ratio_poster/public/p2441988159.jpg')\n('小鞋子', 'https://img9.doubanio.com/view/photo/s_ratio_poster/public/p2173580536.jpg')\n('海豚湾', 'https://img1.doubanio.com/view/photo/s_ratio_poster/public/p2559579779.jpg')\n('拯救大兵瑞恩', 'https://img9.doubanio.com/view/photo/s_ratio_poster/public/p1014542496.jpg')\n('情书', 'https://img1.doubanio.com/view/photo/s_ratio_poster/public/p449897379.jpg')\n('穿条纹睡衣的男孩', 'https://img3.doubanio.com/view/photo/s_ratio_poster/public/p1473670352.jpg')\n('音乐之声', 'https://img3.doubanio.com/view/photo/s_ratio_poster/public/p2189265302.jpg')\n('美国往事', 'https://img1.doubanio.com/view/photo/s_ratio_poster/public/p477229647.jpg')\n('绿皮书', 'https://img3.doubanio.com/view/photo/s_ratio_poster/public/p2549177902.jpg')\n('致命魔术', 'https://img9.doubanio.com/view/photo/s_ratio_poster/public/p480383375.jpg')\n('海蒂和爷爷', 'https://img9.doubanio.com/view/photo/s_ratio_poster/public/p2554525534.jpg')\n('低俗小说', 'https://img3.doubanio.com/view/photo/s_ratio_poster/public/p1910902213.jpg')\n('七宗罪', 'https://img9.doubanio.com/view/photo/s_ratio_poster/public/p2219586434.jpg')\n('沉默的羔羊', 'https://img1.doubanio.com/view/photo/s_ratio_poster/public/p1593414327.jpg')\n('蝴蝶效应', 'https://img1.doubanio.com/view/photo/s_ratio_poster/public/p2209066019.jpg')\n('春光乍泄', 'https://img3.doubanio.com/view/photo/s_ratio_poster/public/p465939041.jpg')\n('禁闭岛', 'https://img1.doubanio.com/view/photo/s_ratio_poster/public/p1832875827.jpg')\n('被嫌弃的松子的一生', 'https://img9.doubanio.com/view/photo/s_ratio_poster/public/p884763596.jpg')\n('心灵捕手', 'https://img9.doubanio.com/view/photo/s_ratio_poster/public/p480965695.jpg')\n('布达佩斯大饭店', 'https://img3.doubanio.com/view/photo/s_ratio_poster/public/p2178872593.jpg')\n('阿凡达', 'https://img1.doubanio.com/view/photo/s_ratio_poster/public/p2180085848.jpg')\n('剪刀手爱德华', 'https://img1.doubanio.com/view/photo/s_ratio_poster/public/p480956937.jpg')\n('勇敢的心', 'https://img3.doubanio.com/view/photo/s_ratio_poster/public/p1374546770.jpg')\n('摩登时代', 'https://img1.doubanio.com/view/photo/s_ratio_poster/public/p2263408369.jpg')\n('天使爱美丽', 'https://img3.doubanio.com/view/photo/s_ratio_poster/public/p2447590313.jpg')\n('喜剧之王', 'https://img1.doubanio.com/view/photo/s_ratio_poster/public/p2579932167.jpg')\n('加勒比海盗', 'https://img9.doubanio.com/view/photo/s_ratio_poster/public/p1596085504.jpg')\n('致命ID', 'https://img9.doubanio.com/view/photo/s_ratio_poster/public/p2558364386.jpg')\n('断背山', 'https://img3.doubanio.com/view/photo/s_ratio_poster/public/p2154212680.jpg')\n('杀人回忆', 'https://img1.doubanio.com/view/photo/s_ratio_poster/public/p2326071698.jpg')\n('狩猎', 'https://img1.doubanio.com/view/photo/s_ratio_poster/public/p1546987967.jpg')\n('幽灵公主', 'https://img9.doubanio.com/view/photo/s_ratio_poster/public/p1613191025.jpg')\n('请以你的名字呼唤我', 'https://img3.doubanio.com/view/photo/s_ratio_poster/public/p2505525050.jpg')\n('哈利·波特与死亡圣器(下)', 'https://img3.doubanio.com/view/photo/s_ratio_poster/public/p917846733.jpg')\n('阳光灿烂的日子', 'https://img9.doubanio.com/view/photo/s_ratio_poster/public/p2564685215.jpg')\n('入殓师', 'https://img1.doubanio.com/view/photo/s_ratio_poster/public/p594972928.jpg')\n('重庆森林', 'https://img3.doubanio.com/view/photo/s_ratio_poster/public/p792381411.jpg')\n('第六感', 'https://img9.doubanio.com/view/photo/s_ratio_poster/public/p2220184425.jpg')\n('小森林 夏秋篇', 'https://img3.doubanio.com/view/photo/s_ratio_poster/public/p2564498893.jpg')\n('7号房的礼物', 'https://img9.doubanio.com/view/photo/s_ratio_poster/public/p1816276065.jpg')\n('消失的爱人', 'https://img9.doubanio.com/view/photo/s_ratio_poster/public/p2221768894.jpg')\n('红辣椒', 'https://img3.doubanio.com/view/photo/s_ratio_poster/public/p456825720.jpg')\n('爱在黎明破晓前', 'https://img9.doubanio.com/view/photo/s_ratio_poster/public/p2555762374.jpg')\n('小森林 冬春篇', 'https://img3.doubanio.com/view/photo/s_ratio_poster/public/p2258078370.jpg')\n('玛丽和马克思', 'https://img9.doubanio.com/view/photo/s_ratio_poster/public/p2162822165.jpg')\n('侧耳倾听', 'https://img3.doubanio.com/view/photo/s_ratio_poster/public/p456692072.jpg')\n('一一', 'https://img3.doubanio.com/view/photo/s_ratio_poster/public/p2567845803.jpg')\n('唐伯虎点秋香', 'https://img9.doubanio.com/view/photo/s_ratio_poster/public/p2357915564.jpg')\n('告白', 'https://img9.doubanio.com/view/photo/s_ratio_poster/public/p689520756.jpg')\n('蝙蝠侠：黑暗骑士崛起', 'https://img9.doubanio.com/view/photo/s_ratio_poster/public/p1706428744.jpg')\n('大鱼', 'https://img9.doubanio.com/view/photo/s_ratio_poster/public/p692813374.jpg')\n('阳光姐妹淘', 'https://img1.doubanio.com/view/photo/s_ratio_poster/public/p1374786017.jpg')\n('倩女幽魂', 'https://img9.doubanio.com/view/photo/s_ratio_poster/public/p2414157745.jpg')\n('超脱', 'https://img3.doubanio.com/view/photo/s_ratio_poster/public/p1305562621.jpg')\n('射雕英雄传之东成西就', 'https://img1.doubanio.com/view/photo/s_ratio_poster/public/p2535922598.jpg')\n('甜蜜蜜', 'https://img9.doubanio.com/view/photo/s_ratio_poster/public/p2223011274.jpg')\n('驯龙高手', 'https://img9.doubanio.com/view/photo/s_ratio_poster/public/p2210954024.jpg')\n('萤火之森', 'https://img3.doubanio.com/view/photo/s_ratio_poster/public/p1675053073.jpg')\n('超能陆战队', 'https://img1.doubanio.com/view/photo/s_ratio_poster/public/p2224568669.jpg')\n('无人知晓', 'https://img3.doubanio.com/view/photo/s_ratio_poster/public/p661160053.jpg')\n('幸福终点站', 'https://img1.doubanio.com/view/photo/s_ratio_poster/public/p854757687.jpg')\n('菊次郎的夏天', 'https://img9.doubanio.com/view/photo/s_ratio_poster/public/p751835224.jpg')\n('借东西的小人阿莉埃蒂', 'https://img9.doubanio.com/view/photo/s_ratio_poster/public/p617533616.jpg')\n('恐怖直播', 'https://img9.doubanio.com/view/photo/s_ratio_poster/public/p2016930906.jpg')\n('爱在日落黄昏时', 'https://img3.doubanio.com/view/photo/s_ratio_poster/public/p1910924221.jpg')\n('完美的世界', 'https://img3.doubanio.com/view/photo/s_ratio_poster/public/p792403691.jpg')\n('神偷奶爸', 'https://img1.doubanio.com/view/photo/s_ratio_poster/public/p792776858.jpg')\n('怪兽电力公司', 'https://img1.doubanio.com/view/photo/s_ratio_poster/public/p2513247938.jpg')\n('玩具总动员3', 'https://img1.doubanio.com/view/photo/s_ratio_poster/public/p1283675359.jpg')\n('风之谷', 'https://img3.doubanio.com/view/photo/s_ratio_poster/public/p1917567652.jpg')\n('血战钢锯岭', 'https://img1.doubanio.com/view/photo/s_ratio_poster/public/p2398141939.jpg')\n('傲慢与偏见', 'https://img9.doubanio.com/view/photo/s_ratio_poster/public/p452005185.jpg')\n('功夫', 'https://img1.doubanio.com/view/photo/s_ratio_poster/public/p2219011938.jpg')\n('上帝之城', 'https://img3.doubanio.com/view/photo/s_ratio_poster/public/p455677490.jpg')\n('时空恋旅人', 'https://img9.doubanio.com/view/photo/s_ratio_poster/public/p2070153774.jpg')\n('教父3', 'https://img3.doubanio.com/view/photo/s_ratio_poster/public/p2169664351.jpg')\n('电锯惊魂', 'https://img9.doubanio.com/view/photo/s_ratio_poster/public/p2565332644.jpg')\n('喜宴', 'https://img9.doubanio.com/view/photo/s_ratio_poster/public/p2173713676.jpg')\n('人生果实', 'https://img3.doubanio.com/view/photo/s_ratio_poster/public/p2544912792.jpg')\n('天书奇谭', 'https://img1.doubanio.com/view/photo/s_ratio_poster/public/p2515539487.jpg')\n('谍影重重3', 'https://img1.doubanio.com/view/photo/s_ratio_poster/public/p792223507.jpg')\n('英雄本色', 'https://img1.doubanio.com/view/photo/s_ratio_poster/public/p2504997087.jpg')\n('被解救的姜戈', 'https://img1.doubanio.com/view/photo/s_ratio_poster/public/p1959232369.jpg')\n('岁月神偷', 'https://img3.doubanio.com/view/photo/s_ratio_poster/public/p456666151.jpg')\n('七武士', 'https://img3.doubanio.com/view/photo/s_ratio_poster/public/p2565471701.jpg')\n('哪吒闹海', 'https://img3.doubanio.com/view/photo/s_ratio_poster/public/p2516566783.jpg')\n('我是山姆', 'https://img9.doubanio.com/view/photo/s_ratio_poster/public/p652417775.jpg')\n('疯狂原始人', 'https://img1.doubanio.com/view/photo/s_ratio_poster/public/p1867084027.jpg')\n('纵横四海', 'https://img9.doubanio.com/view/photo/s_ratio_poster/public/p2272146906.jpg')\n('头号玩家', 'https://img1.doubanio.com/view/photo/s_ratio_poster/public/p2516578307.jpg')\n('三块广告牌', 'https://img1.doubanio.com/view/photo/s_ratio_poster/public/p2510081688.jpg')\n('心迷宫', 'https://img9.doubanio.com/view/photo/s_ratio_poster/public/p2276780256.jpg')\n('萤火虫之墓', 'https://img1.doubanio.com/view/photo/s_ratio_poster/public/p1157334208.jpg')\n('达拉斯买家俱乐部', 'https://img1.doubanio.com/view/photo/s_ratio_poster/public/p2166160837.jpg')\n('釜山行', 'https://img1.doubanio.com/view/photo/s_ratio_poster/public/p2360940399.jpg')\n('真爱至上', 'https://img3.doubanio.com/view/photo/s_ratio_poster/public/p475600770.jpg')\n('荒蛮故事', 'https://img3.doubanio.com/view/photo/s_ratio_poster/public/p2584519452.jpg')\n('东邪西毒', 'https://img3.doubanio.com/view/photo/s_ratio_poster/public/p1982176012.jpg')\n('贫民窟的百万富翁', 'https://img3.doubanio.com/view/photo/s_ratio_poster/public/p2434249040.jpg')\n('记忆碎片', 'https://img3.doubanio.com/view/photo/s_ratio_poster/public/p641688453.jpg')\n('爆裂鼓手', 'https://img3.doubanio.com/view/photo/s_ratio_poster/public/p2220776342.jpg')\n('你的名字。', 'https://img1.doubanio.com/view/photo/s_ratio_poster/public/p2395733377.jpg')\n('黑天鹅', 'https://img9.doubanio.com/view/photo/s_ratio_poster/public/p2549648344.jpg')\n('花样年华', 'https://img9.doubanio.com/view/photo/s_ratio_poster/public/p1910828286.jpg')\n('卢旺达饭店', 'https://img3.doubanio.com/view/photo/s_ratio_poster/public/p470419493.jpg')\n('哈利·波特与阿兹卡班的囚徒', 'https://img1.doubanio.com/view/photo/s_ratio_poster/public/p1910812549.jpg')\n('忠犬八公物语', 'https://img3.doubanio.com/view/photo/s_ratio_poster/public/p1576418852.jpg')\n('黑客帝国3：矩阵革命', 'https://img1.doubanio.com/view/photo/s_ratio_poster/public/p443461818.jpg')\n('头脑特工队', 'https://img9.doubanio.com/view/photo/s_ratio_poster/public/p2266293606.jpg')\n('模仿游戏', 'https://img3.doubanio.com/view/photo/s_ratio_poster/public/p2255040492.jpg')\n('一个叫欧维的男人决定去死', 'https://img3.doubanio.com/view/photo/s_ratio_poster/public/p2406624993.jpg')\n('雨人', 'https://img3.doubanio.com/view/photo/s_ratio_poster/public/p942376281.jpg')\n('你看起来好像很好吃', 'https://img3.doubanio.com/view/photo/s_ratio_poster/public/p709670262.jpg')\n('未麻的部屋', 'https://img3.doubanio.com/view/photo/s_ratio_poster/public/p1351050722.jpg')\n('无敌破坏王', 'https://img9.doubanio.com/view/photo/s_ratio_poster/public/p1735642656.jpg')\n('哈利·波特与密室', 'https://img3.doubanio.com/view/photo/s_ratio_poster/public/p1082651990.jpg')\n('恋恋笔记本', 'https://img9.doubanio.com/view/photo/s_ratio_poster/public/p483604864.jpg')\n('冰川时代', 'https://img1.doubanio.com/view/photo/s_ratio_poster/public/p1910895719.jpg')\n('海街日记', 'https://img1.doubanio.com/view/photo/s_ratio_poster/public/p2232247487.jpg')\n('新世界', 'https://img1.doubanio.com/view/photo/s_ratio_poster/public/p1903379979.jpg')\n('海边的曼彻斯特', 'https://img9.doubanio.com/view/photo/s_ratio_poster/public/p2421855655.jpg')\n('二十二', 'https://img1.doubanio.com/view/photo/s_ratio_poster/public/p2457609817.jpg')\n('虎口脱险', 'https://img3.doubanio.com/view/photo/s_ratio_poster/public/p2399597512.jpg')\n('房间', 'https://img9.doubanio.com/view/photo/s_ratio_poster/public/p2259715855.jpg')\n('恐怖游轮', 'https://img9.doubanio.com/view/photo/s_ratio_poster/public/p462470694.jpg')\n('惊魂记', 'https://img9.doubanio.com/view/photo/s_ratio_poster/public/p1021883305.jpg')\n('奇迹男孩', 'https://img1.doubanio.com/view/photo/s_ratio_poster/public/p2507709428.jpg')\n('魔女宅急便', 'https://img3.doubanio.com/view/photo/s_ratio_poster/public/p456676352.jpg')\n('人工智能', 'https://img1.doubanio.com/view/photo/s_ratio_poster/public/p792257137.jpg')\n('雨中曲', 'https://img9.doubanio.com/view/photo/s_ratio_poster/public/p1612355875.jpg')\n('疯狂的石头', 'https://img3.doubanio.com/view/photo/s_ratio_poster/public/p712241453.jpg')\n('罗生门', 'https://img1.doubanio.com/view/photo/s_ratio_poster/public/p2564689879.jpg')\n('海洋', 'https://img9.doubanio.com/view/photo/s_ratio_poster/public/p2559581324.jpg')\n('爱在午夜降临前', 'https://img1.doubanio.com/view/photo/s_ratio_poster/public/p2074715729.jpg')\n('终结者2：审判日', 'https://img9.doubanio.com/view/photo/s_ratio_poster/public/p1910909085.jpg')\n('小偷家族', 'https://img9.doubanio.com/view/photo/s_ratio_poster/public/p2530599636.jpg')\n('魂断蓝桥', 'https://img1.doubanio.com/view/photo/s_ratio_poster/public/p2351134499.jpg')\n('燃情岁月', 'https://img1.doubanio.com/view/photo/s_ratio_poster/public/p1023654037.jpg')\n('初恋这件小事', 'https://img1.doubanio.com/view/photo/s_ratio_poster/public/p767451487.jpg')\n('穿越时空的少女', 'https://img9.doubanio.com/view/photo/s_ratio_poster/public/p2079334286.jpg')\n('可可西里', 'https://img3.doubanio.com/view/photo/s_ratio_poster/public/p2414771522.jpg')\n('绿里奇迹', 'https://img3.doubanio.com/view/photo/s_ratio_poster/public/p767586451.jpg')\n('2001太空漫游', 'https://img9.doubanio.com/view/photo/s_ratio_poster/public/p2560717825.jpg')\n('牯岭街少年杀人事件', 'https://img9.doubanio.com/view/photo/s_ratio_poster/public/p848381236.jpg')\n('完美陌生人', 'https://img9.doubanio.com/view/photo/s_ratio_poster/public/p2522331945.jpg')\n('无耻混蛋', 'https://img1.doubanio.com/view/photo/s_ratio_poster/public/p2575043939.jpg')\n('城市之光', 'https://img1.doubanio.com/view/photo/s_ratio_poster/public/p2170238828.jpg')\n('阿飞正传', 'https://img3.doubanio.com/view/photo/s_ratio_poster/public/p2525770523.jpg')\n('新龙门客栈', 'https://img1.doubanio.com/view/photo/s_ratio_poster/public/p1421018669.jpg')\n('源代码', 'https://img9.doubanio.com/view/photo/s_ratio_poster/public/p988260245.jpg')\n('香水', 'https://img9.doubanio.com/view/photo/s_ratio_poster/public/p2441127736.jpg')\n('谍影重重2', 'https://img9.doubanio.com/view/photo/s_ratio_poster/public/p667644866.jpg')\n('青蛇', 'https://img9.doubanio.com/view/photo/s_ratio_poster/public/p584021784.jpg')\n('谍影重重', 'https://img3.doubanio.com/view/photo/s_ratio_poster/public/p1597183981.jpg')\n('地球上的星星', 'https://img9.doubanio.com/view/photo/s_ratio_poster/public/p1973489335.jpg')\n('战争之王', 'https://img3.doubanio.com/view/photo/s_ratio_poster/public/p792282381.jpg')\n('猜火车', 'https://img1.doubanio.com/view/photo/s_ratio_poster/public/p513567548.jpg')\n('血钻', 'https://img3.doubanio.com/view/photo/s_ratio_poster/public/p1244017073.jpg')\n('色，戒', 'https://img9.doubanio.com/view/photo/s_ratio_poster/public/p453716305.jpg')\n('遗愿清单', 'https://img9.doubanio.com/view/photo/s_ratio_poster/public/p708613284.jpg')\n('大佛普拉斯', 'https://img3.doubanio.com/view/photo/s_ratio_poster/public/p2505928032.jpg')\n('步履不停', 'https://img3.doubanio.com/view/photo/s_ratio_poster/public/p2561539680.jpg')\n('朗读者', 'https://img1.doubanio.com/view/photo/s_ratio_poster/public/p1140984198.jpg')\n('疯狂的麦克斯4：狂暴之路', 'https://img3.doubanio.com/view/photo/s_ratio_poster/public/p2236181653.jpg')\n('彗星来的那一夜', 'https://img9.doubanio.com/view/photo/s_ratio_poster/public/p2187896734.jpg')\n('浪潮', 'https://img3.doubanio.com/view/photo/s_ratio_poster/public/p1344888983.jpg')\n('小萝莉的猴神大叔', 'https://img9.doubanio.com/view/photo/s_ratio_poster/public/p2510956726.jpg')\n('再次出发之纽约遇见你', 'https://img3.doubanio.com/view/photo/s_ratio_poster/public/p2250287733.jpg')\n('聚焦', 'https://img1.doubanio.com/view/photo/s_ratio_poster/public/p2263822658.jpg')\n('驴得水', 'https://img3.doubanio.com/view/photo/s_ratio_poster/public/p2393044761.jpg')\n('东京物语', 'https://img9.doubanio.com/view/photo/s_ratio_poster/public/p1925331564.jpg')\n('追随', 'https://img3.doubanio.com/view/photo/s_ratio_poster/public/p2561545031.jpg')\n('一次别离', 'https://img9.doubanio.com/view/photo/s_ratio_poster/public/p2189835254.jpg')\n('千钧一发', 'https://img9.doubanio.com/view/photo/s_ratio_poster/public/p2195672555.jpg')\n('我爱你', 'https://img1.doubanio.com/view/photo/s_ratio_poster/public/p1075591188.jpg')\n('九品芝麻官', 'https://img3.doubanio.com/view/photo/s_ratio_poster/public/p648370300.jpg')\n('黑鹰坠落', 'https://img3.doubanio.com/view/photo/s_ratio_poster/public/p1910900710.jpg')\n('四个春天', 'https://img1.doubanio.com/view/photo/s_ratio_poster/public/p2540578887.jpg')\n('哈利·波特与火焰杯', 'https://img1.doubanio.com/view/photo/s_ratio_poster/public/p2220723219.jpg')\n('发条橙', 'https://img9.doubanio.com/view/photo/s_ratio_poster/public/p529908155.jpg')\n('网络谜踪', 'https://img1.doubanio.com/view/photo/s_ratio_poster/public/p2542848758.jpg')\n('E.T. 外星人', 'https://img3.doubanio.com/view/photo/s_ratio_poster/public/p984732992.jpg')\n('黑客帝国2：重装上阵', 'https://img3.doubanio.com/view/photo/s_ratio_poster/public/p443461390.jpg')\n"
    }
   ],
   "source": [
    "import requests\n",
    "import os\n",
    "\n",
    "if not os.path.exists('image'):\n",
    "    os.mkdir('image')\n",
    "\n",
    "\n",
    "def parse_html(url):\n",
    "    headers = {\n",
    "        \"User-Agent\": \"Mozilla/5.0 (Windows NT 10.0; Win64; x64) AppleWebKit/537.36 (KHTML, like Gecko) Chrome/74.0.3729.169 Safari/537.36\"\n",
    "    }\n",
    "    res = requests.get(url, headers=headers)\n",
    "    text = res.text\n",
    "    item = []\n",
    "    for i in range(25):\n",
    "        text = text[text.find('alt')+3:]\n",
    "        item.append(extract(text))\n",
    "    return item\n",
    "\n",
    "\n",
    "def extract(text):\n",
    "    text = text.split('\"')\n",
    "    name = text[1]\n",
    "    image = text[3]\n",
    "    return name, image\n",
    "\n",
    "\n",
    "def write_movies_file(item, stars):\n",
    "    print(item)\n",
    "    # 保存电影信息\n",
    "    with open('douban_file.txt', 'a', encoding='utf-8') as f:\n",
    "        f.write('排名: %d\\t电影名： %s\\n' %(stars, item[0]))\n",
    "    \n",
    "    # 保存图片\n",
    "    r = requests.get(item[1])\n",
    "    with open('image/' + str(item[0]) + '.jpg', 'wb') as f:\n",
    "        f.write(r.content)\n",
    "\n",
    "\n",
    "def main():\n",
    "    stars = 1\n",
    "    for offset in range(0, 250, 25):  # 每页25部电影\n",
    "        url = 'https://movie.douban.com/top250?start=' + str(offset) + '&filter='\n",
    "        for item in parse_html(url):\n",
    "            write_movies_file(item, stars)\n",
    "            stars += 1\n",
    "\n",
    "\n",
    "if __name__ == '__main__':\n",
    "    main()"
   ]
  },
  {
   "cell_type": "markdown",
   "metadata": {},
   "source": [
    "## 使用API\n",
    "所谓的采集网络数据，并不一定必须从网页中抓取数据，而api（Application Programming Iterface）的用处就在这里：API为开发者提供了方便友好的接口，不同的开发者用不同的语言都能获取相同的数据。目前API一般会以XML（Extensible Markup Language，可拓展标记语言）或者JSON（JavaScript Object Notation）格式来返回服务器响应，其中JSON数据格式越来越受到人们的欢迎，我们后面的课程也会详细介绍JSON格式。\n",
    "\n",
    "## 百度地图API使用\n",
    "1. 创建百度API应用的地址：http://lbsyun.baidu.com/apiconsole/key \n",
    "2. 注意应用类型要选择浏览器端\n",
    "3. 官方说明文档：http://lbsyun.baidu.com/index.php?title=jspopular3.0\n",
    "\n",
    "yield:带yield的函数是一个生成器，而不是一个函数了，这个生成器有一个函数就是next函数\n",
    "\n",
    "eval:用来执行一个字符串表达式，并返回表达式的值。"
   ]
  },
  {
   "cell_type": "code",
   "execution_count": 39,
   "metadata": {},
   "outputs": [
    {
     "output_type": "stream",
     "name": "stdout",
     "text": "url: http://api.map.baidu.com/geocoding/v3/?address=北京市清华大学&output=json&ak=FM3x9wRFVvwmZIgnCFFG9ysPQxnmpkR3\ndone\n北京市清华大学|经度:116.33337396094367|纬度:40.009645090734296.\nurl: http://api.map.baidu.com/geocoding/v3/?address=北京市北京大学&output=json&ak=FM3x9wRFVvwmZIgnCFFG9ysPQxnmpkR3\ndone\n北京市北京大学|经度:116.31683256328296|纬度:39.99887680537622.\nurl: http://api.map.baidu.com/geocoding/v3/?address=保定市华北电力大学&output=json&ak=FM3x9wRFVvwmZIgnCFFG9ysPQxnmpkR3\ndone\n保定市华北电力大学|经度:115.52130317483764|纬度:38.89477430426888.\nurl: http://api.map.baidu.com/geocoding/v3/?address=上海市复旦大学&output=json&ak=FM3x9wRFVvwmZIgnCFFG9ysPQxnmpkR3\ndone\n上海市复旦大学|经度:121.74295536914276|纬度:31.06665792321301.\nurl: http://api.map.baidu.com/geocoding/v3/?address=武汉市武汉大学&output=json&ak=FM3x9wRFVvwmZIgnCFFG9ysPQxnmpkR3\ndone\n武汉市武汉大学|经度:114.37292090919235|纬度:30.543803317143624.\n"
    }
   ],
   "source": [
    "# 实现地理编码\n",
    "import requests\n",
    "\n",
    "def getUrl(*address):\n",
    "    ak = 'FM3x9wRFVvwmZIgnCFFG9ysPQxnmpkR3'\n",
    "    if len(address) < 1:\n",
    "        return None\n",
    "    else:\n",
    "        for add in address:\n",
    "            url = 'http://api.map.baidu.com/geocoding/v3/?address={0}&output=json&ak={1}'.format(add,ak)  \n",
    "            yield url\n",
    "\n",
    "\n",
    "def getPosition(url):\n",
    "    res = requests.get(url)\n",
    "    json_data = eval(res.text)\n",
    "    if json_data['status'] == 0:\n",
    "        lat = json_data['result']['location']['lat'] #纬度\n",
    "        lng = json_data['result']['location']['lng'] #经度\n",
    "    else:\n",
    "        print(\"Error output!\")\n",
    "        return json_data['status']\n",
    "    return lat,lng\n",
    "\n",
    "\n",
    "if __name__ == '__main__':\n",
    "    address = ['北京市清华大学','北京市北京大学','保定市华北电力大学','上海市复旦大学','武汉市武汉大学']\n",
    "    for add in address:\n",
    "        add_url = list(getUrl(add))[0]\n",
    "        print('url:', add_url)\n",
    "        try:\n",
    "            lat, lng = getPosition(add_url)\n",
    "            print(\"{0}|经度:{1}|纬度:{2}.\".format(add,lng,lat))\n",
    "        except BaseException as e:\n",
    "            print(e)"
   ]
  },
  {
   "cell_type": "markdown",
   "metadata": {},
   "source": [
    "## JavaScript与AJAX技术\n",
    "### 基础概念\n",
    "1. 开发者通过程序获取到的HTTP响应内容都是原始的HTML数据，但浏览器中的页面其实是在HTML的基础上，经过JavaScript进一步加工和处理后生成的效果。\n",
    "2. 今天，以AJAX（Asynchronous JavaScript and XML，异步JavaScript与XML）技术为代表的结合JavaScript、CSS、HTML等语言的网页开发技术已经成为绝对的主流。\n",
    "3. JavaScript语言一般被定义为一种“面向对象、动态类型的解释性语言”，最初由Netscape公司为Navigator浏览器开发，目的是作为新一代浏览器的脚本语言支持。\n",
    "4. 对于今天任何一个正式的网站页面而言，HTML决定了网页的基本内容，CSS（Cascading Style Sheets，层叠样式表）描述了网页的样式布局，JavaScript 则控制了用户与网页的交互。\n",
    "### JS语言特点\n",
    "- 动态语言\n",
    "\n",
    "动态语言是指程序在运行时可以改变其结构：新的函数可以被引进，已有的函数可以被删除等在结构上的变化。JavaScript便是一个动态语言。除此之外如Ruby、Python等也都属于动态语言，而C、C++等语言则不属于动态语言。比如在JavaScript中可以在对象定义之后动态的为其添加属性和方法\n",
    "\n",
    "- 脚本语言\n",
    "\n",
    "脚本语言是为了缩短传统的编写-编译-链接-运行（edit-compile-link-run）过程而创建的计算机编程语言，只在被调用时进行解释或编译，然后执行。它的命名起源于一个脚本“screenplay”，每次运行都会使对话框逐字重复。早期的脚本语言经常被称为批量处理语言或工作控制语言。\n",
    "\n",
    "- 弱类型\n",
    "\n",
    "弱/强类型指的是语言类型系统的类型检查的严格程度，弱类型的语言在声明变量的时候不必进行变量类型的确定，语言的运行时会隐式做数据类型转换，对于弱类型语言来说，不同类型的变量可以进行直接运算，而强类型的则不可以。\n",
    "\n",
    "### 基本语法\n",
    "- JavaScript的执行顺序：按照HTML文件中出现的顺序依次执行\n",
    "- 大小写敏感：JavaScript严格区分大小写\n",
    "- 忽略空白符和换行符\n",
    "- 语句分隔符：使用；结束语句，可以把多个语句写在一行，最后一个语句的分号可以省略，但尽量不要省略。可以使用{}括成一个语句组，形成一个block\n",
    "- 通过\\对代码进行折行操作：document.write(‘hello\\world’);\n",
    "- //单行注释  多行注释/注释内容/\n",
    "- JavaScript中的保留字：abstract，else，instanceof，super，boolean，enum，int，switch，break，export，interface，synchronized，byte，extends，let，this，case，false，long，throw，catch，final，native，throws，char，finally，new，transient，class，float，null，true，const，for，package，try，continue，function，private，typeof，debugger，goto，protected，var，defaut，if，public，void，delete，inplements，return，volatile，do，import，short，while，doble，in，static，width\n",
    "- 通过document.write()向文档书写内容\n",
    "- 通过console.log()向控制台写入内容\n",
    "- 语法错误：通过控制台进行调试\n",
    "- 逻辑错误：通过alert() 进行调试\n",
    "\n",
    "### AJAX技术\n",
    "\n",
    "AJAX技术与其说是一种“技术”，不如说是一种“方案”。如上文所述，在网页中使用JavaScript 加载页面中数据的过程，都可以看作AJAX技术。AJAX技术改变了过去用户浏览网站时一个请求对应一个页面的模式，允许浏览器通过异步请求来获取数据，从而使得一个页面能够呈现并容纳更多的内容，同时也就意味着更多的功能。只要用户使用的是主流的浏览器，同时允许浏览器执行JavaScript，用户就能够享受网页中的AJAX内容。\n",
    "\n",
    "基于Python编写的爬虫程序可以做出两种改进\n",
    "\n",
    "1. 一种是通过分析AJAX内容（需要开发者手动观察和实验），观察其请求目标、请求内容和请求的参数等信息，最终编写程序来模拟这样的JavaScript 请求，从而获取信息（这个过程也可以叫作“逆向工程”）\n",
    "2. 另外一种方式则比较取巧，那就是直接模拟出浏览器环境，使得程序得以通过浏览器模拟工具“移花接木”，最终通过浏览器渲染后的页面来获得信息。这两种方式的选择与JavaScript在网页中的具体使用方法有关。"
   ]
  },
  {
   "cell_type": "markdown",
   "metadata": {},
   "source": [
    "## 问题记录\n",
    "Q1：爬取python之禅的应用中，这句什么意思？\n",
    "```python\n",
    "print(text[text.find('<pre')+28:text.find('</pre>')-1])\n",
    "```\n",
    "A1： `text.find('<pre')+28`是一个索引值，`text.find('</pre>')-1`也是一个索引值，从字符串中提取子字符串。"
   ]
  },
  {
   "cell_type": "code",
   "execution_count": null,
   "metadata": {},
   "outputs": [],
   "source": []
  }
 ],
 "metadata": {
  "language_info": {
   "codemirror_mode": {
    "name": "ipython",
    "version": 3
   },
   "file_extension": ".py",
   "mimetype": "text/x-python",
   "name": "python",
   "nbconvert_exporter": "python",
   "pygments_lexer": "ipython3",
   "version": "3.7.4-final"
  },
  "orig_nbformat": 2,
  "kernelspec": {
   "name": "python37464bitbaseconda9607f4e17a1f4ae6a62485bba290fd86",
   "display_name": "Python 3.7.4 64-bit ('base': conda)"
  }
 },
 "nbformat": 4,
 "nbformat_minor": 2
}