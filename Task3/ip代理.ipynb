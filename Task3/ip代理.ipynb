{
 "cells": [
  {
   "cell_type": "markdown",
   "metadata": {},
   "source": [
    "## 神奇操作\n",
    "`proxy_ip_list.append(f'{protocol}://{ip}:{port}')`\n",
    "\n",
    "```python\n",
    "with open('valid_proxy_ip.txt','a') as f:\n",
    "                f.writelines(proxy)\n",
    "            try:\n",
    "                source_ip = json.loads(text).get('ip')\n",
    "                print(f'源IP地址为：{source_ip}')\n",
    "                print('='*40)\n",
    "            except:\n",
    "                print('返回的非json,无法解析')\n",
    "                print(text)\n",
    "```\n",
    "\n",
    "## 为什么会出现IP被封\n",
    "\n",
    "网站为了防止被爬取，会有反爬机制，对于同一个IP地址的大量同类型的访问，会封锁IP，过一段时间后，才能继续访问\n",
    "\n",
    "## 如何应对IP被封的问题\n",
    "\n",
    "有几种套路：\n",
    "1. 修改请求头，模拟浏览器（而不是代码去直接访问）去访问\n",
    "2. 采用代理IP并轮换\n",
    "3. 设置访问时间间隔\n",
    "## 如何获取代理IP地址\n",
    "1. 从该网站获取： https://www.xicidaili.com/\n",
    "2. inspect -> 鼠标定位：\n",
    "3. 要获取的代理IP地址，属于class = \"odd\"标签的内容："
   ]
  },
  {
   "cell_type": "code",
   "execution_count": 2,
   "metadata": {},
   "outputs": [
    {
     "output_type": "stream",
     "name": "stdout",
     "text": "['HTTP://101.200.81.61:80', 'HTTP://124.156.98.172:80', 'HTTP://122.51.183.224:808', 'HTTP://59.44.78.30:42335', 'HTTP://113.77.101.202:8118', 'HTTP://101.132.123.99:8080', 'HTTP://115.219.168.69:8118', 'HTTPS://58.254.220.116:52470', 'HTTPS://117.186.49.50:55443', 'HTTP://61.54.225.130:8060', 'HTTP://14.20.235.73:808', 'HTTPS://59.36.10.74:3128', 'HTTP://218.75.158.153:3128', 'HTTP://163.125.71.195:8888', 'HTTPS://60.211.218.78:53281', 'HTTPS://221.229.252.98:8080', 'HTTPS://1.196.161.144:9999', 'HTTP://49.85.211.213:8118', 'HTTP://211.101.154.105:43598', 'HTTP://113.59.99.138:8910', 'HTTPS://49.76.237.243:8123', 'HTTPS://59.36.10.74:3128', 'HTTPS://60.31.213.115:808', 'HTTPS://60.211.218.78:53281', 'HTTPS://221.229.252.98:8080', 'HTTPS://117.186.49.50:55443', 'HTTPS://60.5.254.169:8081', 'HTTPS://139.196.193.85:8080', 'HTTPS://122.224.65.201:3128', 'HTTPS://218.59.193.14:47138', 'HTTP://101.200.81.61:80', 'HTTP://14.20.235.73:808', 'HTTP://122.51.183.224:808', 'HTTP://59.44.78.30:42335', 'HTTP://218.75.158.153:3128', 'HTTP://223.82.106.253:3128', 'HTTP://101.132.123.99:8080', 'HTTP://115.219.168.69:8118', 'HTTP://183.3.218.34:8080', 'HTTP://60.2.44.182:30963']\n"
    }
   ],
   "source": [
    "from bs4 import BeautifulSoup\n",
    "import requests\n",
    "import time\n",
    "\n",
    "def open_proxy_url(url):\n",
    "    user_agent = 'Mozilla/5.0 (Macintosh; Intel Mac OS X 10_14_2) AppleWebKit/537.36 (KHTML, like Gecko) Chrome/72.0.3626.119 Safari/537.36'\n",
    "    headers = {'User-Agent': user_agent}\n",
    "    try:\n",
    "        r = requests.get(url, headers=headers, timeout=20)\n",
    "        r.raise_for_status()\n",
    "        r.encoding = r.apparent_encoding\n",
    "        return (r.text)\n",
    "    except:\n",
    "        print('无法访问网页'+url)\n",
    "\n",
    "\n",
    "def get_proxy_ip(response):\n",
    "    proxy_ip_list = []\n",
    "    soup = BeautifulSoup(response, 'html.parser')\n",
    "    proxy_ips = soup.select('.odd')\n",
    "    for proxy_ip in proxy_ips:\n",
    "        ip = proxy_ip.select('td')[1].text\n",
    "        port = proxy_ip.select('td')[2].text\n",
    "        protocol = proxy_ip.select('td')[5].text\n",
    "        if protocol in ('HTTP', 'HTTPS'):\n",
    "            proxy_ip_list.append(f'{protocol}://{ip}:{port}')\n",
    "    return proxy_ip_list\n",
    "\n",
    "\n",
    "if __name__ == '__main__':\n",
    "    proxy_url = 'https://www.xicidaili.com/'\n",
    "    text = open_proxy_url(proxy_url)\n",
    "    proxy_ip_filename = 'proxy_ip.txt'\n",
    "    with open(proxy_ip_filename, 'w') as f:\n",
    "        f.write(text)\n",
    "    text = open(proxy_ip_filename, 'r').read()\n",
    "    proxy_ip_list = get_proxy_ip(text)\n",
    "    print(proxy_ip_list) "
   ]
  },
  {
   "cell_type": "markdown",
   "metadata": {},
   "source": [
    "发现：获取到的IP并不全，并不是想要的结果都是在class='odd'中，直接从table中提取td"
   ]
  },
  {
   "cell_type": "code",
   "execution_count": 3,
   "metadata": {},
   "outputs": [
    {
     "output_type": "stream",
     "name": "stdout",
     "text": "['HTTP://101.200.81.61:80', 'HTTPS://49.76.237.243:8123', 'HTTP://124.156.98.172:80', 'HTTPS://117.88.176.221:3000', 'HTTP://122.51.183.224:808', 'HTTPS://119.254.94.93:46323', 'HTTP://59.44.78.30:42335', 'HTTP://27.208.231.100:8060', 'HTTP://113.77.101.202:8118', 'HTTP://124.239.216.14:8060', 'HTTP://101.132.123.99:8080', 'HTTPS://60.31.213.115:808', 'HTTP://115.219.168.69:8118', 'HTTP://117.94.213.119:8118', 'HTTPS://58.254.220.116:52470', 'HTTP://112.14.47.6:52024', 'HTTPS://117.186.49.50:55443', 'HTTP://60.2.44.182:30963', 'HTTP://61.54.225.130:8060', 'HTTPS://117.88.176.162:3000', 'HTTP://14.20.235.73:808', 'HTTP://122.225.45.66:43391', 'HTTPS://59.36.10.74:3128', 'HTTP://223.71.203.190:55443', 'HTTP://218.75.158.153:3128', 'HTTP://223.82.106.253:3128', 'HTTP://163.125.71.195:8888', 'HTTPS://117.141.155.241:53281', 'HTTPS://60.211.218.78:53281', 'HTTP://183.3.218.34:8080', 'HTTPS://221.229.252.98:8080', 'HTTPS://121.199.76.16:8091', 'HTTPS://1.196.161.144:9999', 'HTTPS://60.5.254.169:8081', 'HTTP://49.85.211.213:8118', 'HTTP://163.125.64.188:9797', 'HTTP://211.101.154.105:43598', 'HTTPS://60.191.11.229:3128', 'HTTP://113.59.99.138:8910', 'HTTPS://122.224.65.201:3128', 'HTTPS://49.76.237.243:8123', 'HTTPS://117.88.176.221:3000', 'HTTPS://59.36.10.74:3128', 'HTTPS://119.254.94.93:46323', 'HTTPS://60.31.213.115:808', 'HTTPS://117.141.155.241:53281', 'HTTPS://60.211.218.78:53281', 'HTTPS://58.254.220.116:52470', 'HTTPS://221.229.252.98:8080', 'HTTPS://121.199.76.16:8091', 'HTTPS://117.186.49.50:55443', 'HTTPS://1.196.161.144:9999', 'HTTPS://60.5.254.169:8081', 'HTTPS://117.88.176.162:3000', 'HTTPS://139.196.193.85:8080', 'HTTPS://60.191.11.229:3128', 'HTTPS://122.224.65.201:3128', 'HTTPS://60.190.250.120:8080', 'HTTPS://218.59.193.14:47138', 'HTTPS://117.88.177.197:3000', 'HTTP://101.200.81.61:80', 'HTTP://124.156.98.172:80', 'HTTP://14.20.235.73:808', 'HTTP://122.225.45.66:43391', 'HTTP://122.51.183.224:808', 'HTTP://223.71.203.190:55443', 'HTTP://59.44.78.30:42335', 'HTTP://27.208.231.100:8060', 'HTTP://218.75.158.153:3128', 'HTTP://113.77.101.202:8118', 'HTTP://223.82.106.253:3128', 'HTTP://124.239.216.14:8060', 'HTTP://101.132.123.99:8080', 'HTTP://163.125.71.195:8888', 'HTTP://115.219.168.69:8118', 'HTTP://117.94.213.119:8118', 'HTTP://183.3.218.34:8080', 'HTTP://112.14.47.6:52024', 'HTTP://60.2.44.182:30963', 'HTTP://49.85.211.213:8118']\n"
    }
   ],
   "source": [
    "from bs4 import BeautifulSoup\n",
    "import requests\n",
    "import time\n",
    "\n",
    "def open_proxy_url(url):\n",
    "    user_agent = 'Mozilla/5.0 (Macintosh; Intel Mac OS X 10_14_2) AppleWebKit/537.36 (KHTML, like Gecko) Chrome/72.0.3626.119 Safari/537.36'\n",
    "    headers = {'User-Agent': user_agent}\n",
    "    try:\n",
    "        r = requests.get(url, headers=headers, timeout=20)\n",
    "        r.raise_for_status()\n",
    "        r.encoding = r.apparent_encoding\n",
    "        return (r.text)\n",
    "    except:\n",
    "        print('无法访问网页'+url)\n",
    "\n",
    "\n",
    "def get_proxy_ip(response):\n",
    "    proxy_ip_list = []\n",
    "    soup = BeautifulSoup(response, 'html.parser')\n",
    "    proxy_ips = soup.find(id = 'ip_list').find_all('tr')\n",
    "    for proxy_ip in proxy_ips:\n",
    "        if len(proxy_ip.select('td')) >= 8:\n",
    "            ip = proxy_ip.select('td')[1].text\n",
    "            port = proxy_ip.select('td')[2].text\n",
    "            protocol = proxy_ip.select('td')[5].text\n",
    "            if protocol in ('HTTP', 'HTTPS', 'http', 'https'):\n",
    "                proxy_ip_list.append(f'{protocol}://{ip}:{port}')\n",
    "    return proxy_ip_list\n",
    "\n",
    "\n",
    "if __name__ == '__main__':\n",
    "    proxy_url = 'https://www.xicidaili.com/'\n",
    "    text = open_proxy_url(proxy_url)\n",
    "    proxy_ip_filename = 'proxy_ip.txt'\n",
    "    with open(proxy_ip_filename, 'w') as f:\n",
    "        f.write(text)\n",
    "    text = open(proxy_ip_filename, 'r').read()\n",
    "    proxy_ip_list = get_proxy_ip(text)\n",
    "    print(proxy_ip_list)"
   ]
  },
  {
   "cell_type": "markdown",
   "metadata": {},
   "source": [
    "## 使用代理\n",
    "- proxies的格式是一个字典`{‘http’: ‘http://IP:port‘,‘https’:'https://IP:port‘}`\n",
    "- 直接传入requests的get方法中 `requests.get(url, headers=headers, proxies=proxies)`"
   ]
  },
  {
   "cell_type": "code",
   "execution_count": 4,
   "metadata": {},
   "outputs": [],
   "source": [
    "def open_url_using_proxy(url, proxy):\n",
    "    user_agent = 'Mozilla/5.0 (Macintosh; Intel Mac OS X 10_14_2) AppleWebKit/537.36 (KHTML, like Gecko) Chrome/72.0.3626.119 Safari/537.36'\n",
    "    headers = {'User-Agent': user_agent}\n",
    "    proxies = {}\n",
    "    if proxy.startswith('HTTPS'):\n",
    "        proxies['https'] = proxy\n",
    "    else:\n",
    "        proxies['http'] = proxy\n",
    "\n",
    "    try:\n",
    "        r = requests.get(url, headers=headers, proxies=proxies, timeout=20)\n",
    "        r.raise_for_status()\n",
    "        r.encoding = r.apparent_encoding\n",
    "        return (r.text, r.status_code)\n",
    "    except:\n",
    "        print('无法访问网页' + url)\n",
    "        return False\n",
    "\n",
    "url = 'http://www.baidu.com'\n",
    "text = open_url_using_proxy(url, proxy_ip_list[0])"
   ]
  },
  {
   "cell_type": "markdown",
   "metadata": {},
   "source": [
    "## 确认代理IP地址的有效性\n",
    "访问网站，得到的返回码是200真正的访问某些网站，获取title等，验证title与预计的相同访问某些可以提供被访问IP的网站，类似于“查询我的IP”的网站，查看返回的IP地址是什么验证返回码"
   ]
  },
  {
   "cell_type": "code",
   "execution_count": 6,
   "metadata": {},
   "outputs": [
    {
     "output_type": "stream",
     "name": "stdout",
     "text": "有效代理IP：HTTP://101.200.81.61:80\n无法访问网页http://www.baidu.com\n无法访问网页http://www.baidu.com\n无法访问网页http://www.baidu.com\n有效代理IP：HTTP://122.51.183.224:808\n无法访问网页http://www.baidu.com\n无法访问网页http://www.baidu.com\n无法访问网页http://www.baidu.com\n无法访问网页http://www.baidu.com\n无法访问网页http://www.baidu.com\n无法访问网页http://www.baidu.com\n有效代理IP：HTTPS://60.31.213.115:808\n无法访问网页http://www.baidu.com\n无法访问网页http://www.baidu.com\n无法访问网页http://www.baidu.com\n无法访问网页http://www.baidu.com\n有效代理IP：HTTPS://117.186.49.50:55443\n无法访问网页http://www.baidu.com\n有效代理IP：HTTP://61.54.225.130:8060\n无法访问网页http://www.baidu.com\n无法访问网页http://www.baidu.com\n无法访问网页http://www.baidu.com\n无法访问网页http://www.baidu.com\n无法访问网页http://www.baidu.com\n无法访问网页http://www.baidu.com\n无法访问网页http://www.baidu.com\n无法访问网页http://www.baidu.com\n无法访问网页http://www.baidu.com\n有效代理IP：HTTPS://60.211.218.78:53281\n有效代理IP：HTTP://183.3.218.34:8080\n无法访问网页http://www.baidu.com\n无法访问网页http://www.baidu.com\n无法访问网页http://www.baidu.com\n无法访问网页http://www.baidu.com\n无法访问网页http://www.baidu.com\n无法访问网页http://www.baidu.com\n无法访问网页http://www.baidu.com\n无法访问网页http://www.baidu.com\n无法访问网页http://www.baidu.com\n无法访问网页http://www.baidu.com\n无法访问网页http://www.baidu.com\n无法访问网页http://www.baidu.com\n无法访问网页http://www.baidu.com\n无法访问网页http://www.baidu.com\n无法访问网页http://www.baidu.com\n无法访问网页http://www.baidu.com\n无法访问网页http://www.baidu.com\n无法访问网页http://www.baidu.com\n无法访问网页http://www.baidu.com\n有效代理IP：HTTPS://121.199.76.16:8091\n无法访问网页http://www.baidu.com\n有效代理IP：HTTPS://1.196.161.144:9999\n无法访问网页http://www.baidu.com\n有效代理IP：HTTPS://117.88.176.162:3000\n有效代理IP：HTTPS://139.196.193.85:8080\n无法访问网页http://www.baidu.com\n无法访问网页http://www.baidu.com\n无法访问网页http://www.baidu.com\n无法访问网页http://www.baidu.com\n无法访问网页http://www.baidu.com\n有效代理IP：HTTP://101.200.81.61:80\n无法访问网页http://www.baidu.com\n无法访问网页http://www.baidu.com\n无法访问网页http://www.baidu.com\n有效代理IP：HTTP://122.51.183.224:808\n无法访问网页http://www.baidu.com\n无法访问网页http://www.baidu.com\n无法访问网页http://www.baidu.com\n有效代理IP：HTTP://218.75.158.153:3128\n无法访问网页http://www.baidu.com\n无法访问网页http://www.baidu.com\n无法访问网页http://www.baidu.com\n无法访问网页http://www.baidu.com\n有效代理IP：HTTP://163.125.71.195:8888\n有效代理IP：HTTP://115.219.168.69:8118\n无法访问网页http://www.baidu.com\n无法访问网页http://www.baidu.com\n无法访问网页http://www.baidu.com\n无法访问网页http://www.baidu.com\n无法访问网页http://www.baidu.com\n"
    }
   ],
   "source": [
    "def check_proxy_avaliability(proxy):\n",
    "    url = 'http://www.baidu.com'\n",
    "    result = open_url_using_proxy(url, proxy)\n",
    "    VALID_PROXY = False\n",
    "    if result:\n",
    "        text, status_code = result\n",
    "        if status_code == 200:\n",
    "            print('有效代理IP：' + proxy)\n",
    "        else:\n",
    "            print('无效代理IP：' + proxy)\n",
    "\n",
    "\n",
    "for proxy in proxy_ip_list:\n",
    "    check_proxy_avaliability(proxy)"
   ]
  },
  {
   "cell_type": "markdown",
   "metadata": {},
   "source": [
    "## 确认网站title"
   ]
  },
  {
   "cell_type": "code",
   "execution_count": 9,
   "metadata": {},
   "outputs": [],
   "source": [
    "def check_proxy_avaliability(proxy):\n",
    "    url = 'http://www.baidu.com'\n",
    "    text, status_code = open_url_using_proxy(url, proxy)\n",
    "    VALID_PROXY = False\n",
    "    if status_code == 200:\n",
    "        r_title = re.findall('<title>.*</title>', text)\n",
    "        if r_title:\n",
    "            if r_title[0] == '<title>百度一下，你就知道</title>':\n",
    "                VALID_PROXY = True\n",
    "    if VALID_PROXY:\n",
    "        print('有效代理IP：' + proxy)\n",
    "    else:\n",
    "        print('无效代理IP：' + proxy)\n",
    "\n"
   ]
  },
  {
   "cell_type": "code",
   "execution_count": 8,
   "metadata": {},
   "outputs": [
    {
     "output_type": "stream",
     "name": "stdout",
     "text": "有效代理IP: HTTP://101.200.81.61:80\n源IP地址为：183.208.110.207\n========================================\n无法访问网页http://www.baidu.com\n无效代理IP: HTTPS://49.76.237.243:8123\n无效代理IP: HTTPS://49.76.237.243:8123\n无法访问网页http://www.baidu.com\n无效代理IP: HTTP://124.156.98.172:80\n无效代理IP: HTTP://124.156.98.172:80\n无法访问网页http://www.baidu.com\n无效代理IP: HTTPS://117.88.176.221:3000\n无效代理IP: HTTPS://117.88.176.221:3000\n有效代理IP: HTTP://122.51.183.224:808\n源IP地址为：183.208.110.207\n========================================\n无法访问网页http://www.baidu.com\n无效代理IP: HTTPS://119.254.94.93:46323\n无效代理IP: HTTPS://119.254.94.93:46323\n无法访问网页http://www.baidu.com\n无效代理IP: HTTP://59.44.78.30:42335\n无效代理IP: HTTP://59.44.78.30:42335\n无法访问网页http://www.baidu.com\n无效代理IP: HTTP://27.208.231.100:8060\n无效代理IP: HTTP://27.208.231.100:8060\n无法访问网页http://www.baidu.com\n无效代理IP: HTTP://113.77.101.202:8118\n无效代理IP: HTTP://113.77.101.202:8118\n无法访问网页http://www.baidu.com\n无效代理IP: HTTP://124.239.216.14:8060\n无效代理IP: HTTP://124.239.216.14:8060\n无法访问网页http://www.baidu.com\n无效代理IP: HTTP://101.132.123.99:8080\n无效代理IP: HTTP://101.132.123.99:8080\n无法访问网页https://jsonip.com/\n无效代理IP: HTTPS://60.31.213.115:808\n无法访问网页http://www.baidu.com\n无效代理IP: HTTP://115.219.168.69:8118\n无效代理IP: HTTP://115.219.168.69:8118\n无法访问网页http://www.baidu.com\n无效代理IP: HTTP://117.94.213.119:8118\n无效代理IP: HTTP://117.94.213.119:8118\n无法访问网页http://www.baidu.com\n无效代理IP: HTTPS://58.254.220.116:52470\n无效代理IP: HTTPS://58.254.220.116:52470\n无法访问网页http://www.baidu.com\n无效代理IP: HTTP://112.14.47.6:52024\n无效代理IP: HTTP://112.14.47.6:52024\n有效代理IP: HTTPS://117.186.49.50:55443\n源IP地址为：117.186.49.50\n========================================\n无法访问网页http://www.baidu.com\n无效代理IP: HTTP://60.2.44.182:30963\n无效代理IP: HTTP://60.2.44.182:30963\n无法访问网页http://www.baidu.com\n无效代理IP: HTTP://61.54.225.130:8060\n无效代理IP: HTTP://61.54.225.130:8060\n无法访问网页http://www.baidu.com\n无效代理IP: HTTPS://117.88.176.162:3000\n无效代理IP: HTTPS://117.88.176.162:3000\n有效代理IP: HTTP://14.20.235.73:808\n源IP地址为：183.208.110.207\n========================================\n有效代理IP: HTTP://122.225.45.66:43391\n源IP地址为：183.208.110.207\n========================================\n无法访问网页https://jsonip.com/\n无效代理IP: HTTPS://59.36.10.74:3128\n无法访问网页http://www.baidu.com\n无效代理IP: HTTP://223.71.203.190:55443\n无效代理IP: HTTP://223.71.203.190:55443\n有效代理IP: HTTP://218.75.158.153:3128\n源IP地址为：183.208.110.207\n========================================\n无法访问网页http://www.baidu.com\n无效代理IP: HTTP://223.82.106.253:3128\n无效代理IP: HTTP://223.82.106.253:3128\n无法访问网页http://www.baidu.com\n无效代理IP: HTTP://163.125.71.195:8888\n无效代理IP: HTTP://163.125.71.195:8888\n无法访问网页http://www.baidu.com\n无效代理IP: HTTPS://117.141.155.241:53281\n无效代理IP: HTTPS://117.141.155.241:53281\n无法访问网页http://www.baidu.com\n无效代理IP: HTTPS://60.211.218.78:53281\n无效代理IP: HTTPS://60.211.218.78:53281\n无法访问网页http://www.baidu.com\n无效代理IP: HTTP://183.3.218.34:8080\n无效代理IP: HTTP://183.3.218.34:8080\n无法访问网页http://www.baidu.com\n无效代理IP: HTTPS://221.229.252.98:8080\n无效代理IP: HTTPS://221.229.252.98:8080\n无法访问网页http://www.baidu.com\n无效代理IP: HTTPS://121.199.76.16:8091\n无效代理IP: HTTPS://121.199.76.16:8091\n无法访问网页https://jsonip.com/\n无效代理IP: HTTPS://1.196.161.144:9999\n无法访问网页http://www.baidu.com\n无效代理IP: HTTPS://60.5.254.169:8081\n无效代理IP: HTTPS://60.5.254.169:8081\n无法访问网页http://www.baidu.com\n无效代理IP: HTTP://49.85.211.213:8118\n无效代理IP: HTTP://49.85.211.213:8118\n无法访问网页https://jsonip.com/\n无效代理IP: HTTP://163.125.64.188:9797\n有效代理IP: HTTP://211.101.154.105:43598\n源IP地址为：183.208.110.207\n========================================\n有效代理IP: HTTPS://60.191.11.229:3128\n源IP地址为：60.191.11.229\n========================================\n无法访问网页http://www.baidu.com\n无效代理IP: HTTP://113.59.99.138:8910\n无效代理IP: HTTP://113.59.99.138:8910\n无法访问网页http://www.baidu.com\n无效代理IP: HTTPS://122.224.65.201:3128\n无效代理IP: HTTPS://122.224.65.201:3128\n无法访问网页http://www.baidu.com\n无效代理IP: HTTPS://49.76.237.243:8123\n无效代理IP: HTTPS://49.76.237.243:8123\n无法访问网页http://www.baidu.com\n无效代理IP: HTTPS://117.88.176.221:3000\n无效代理IP: HTTPS://117.88.176.221:3000\n无法访问网页https://jsonip.com/\n无效代理IP: HTTPS://59.36.10.74:3128\n无法访问网页http://www.baidu.com\n无效代理IP: HTTPS://119.254.94.93:46323\n无效代理IP: HTTPS://119.254.94.93:46323\n无法访问网页https://jsonip.com/\n无效代理IP: HTTPS://60.31.213.115:808\n无法访问网页http://www.baidu.com\n无效代理IP: HTTPS://117.141.155.241:53281\n无效代理IP: HTTPS://117.141.155.241:53281\n有效代理IP: HTTPS://60.211.218.78:53281\n源IP地址为：60.211.218.78\n========================================\n无法访问网页http://www.baidu.com\n无效代理IP: HTTPS://58.254.220.116:52470\n无效代理IP: HTTPS://58.254.220.116:52470\n无法访问网页http://www.baidu.com\n无效代理IP: HTTPS://221.229.252.98:8080\n无效代理IP: HTTPS://221.229.252.98:8080\n无法访问网页http://www.baidu.com\n无效代理IP: HTTPS://121.199.76.16:8091\n无效代理IP: HTTPS://121.199.76.16:8091\n无法访问网页http://www.baidu.com\n无效代理IP: HTTPS://117.186.49.50:55443\n无效代理IP: HTTPS://117.186.49.50:55443\n无法访问网页http://www.baidu.com\n无效代理IP: HTTPS://1.196.161.144:9999\n无效代理IP: HTTPS://1.196.161.144:9999\n无法访问网页http://www.baidu.com\n无效代理IP: HTTPS://60.5.254.169:8081\n无效代理IP: HTTPS://60.5.254.169:8081\n有效代理IP: HTTPS://117.88.176.162:3000\n源IP地址为：117.88.176.162\n========================================\n无法访问网页http://www.baidu.com\n无效代理IP: HTTPS://139.196.193.85:8080\n无效代理IP: HTTPS://139.196.193.85:8080\n无法访问网页http://www.baidu.com\n无效代理IP: HTTPS://60.191.11.229:3128\n无效代理IP: HTTPS://60.191.11.229:3128\n无法访问网页http://www.baidu.com\n无效代理IP: HTTPS://122.224.65.201:3128\n无效代理IP: HTTPS://122.224.65.201:3128\n无法访问网页http://www.baidu.com\n无效代理IP: HTTPS://60.190.250.120:8080\n无效代理IP: HTTPS://60.190.250.120:8080\n无法访问网页http://www.baidu.com\n无效代理IP: HTTPS://218.59.193.14:47138\n无效代理IP: HTTPS://218.59.193.14:47138\n无法访问网页http://www.baidu.com\n无效代理IP: HTTPS://117.88.177.197:3000\n无效代理IP: HTTPS://117.88.177.197:3000\n有效代理IP: HTTP://101.200.81.61:80\n源IP地址为：183.208.110.207\n========================================\n无法访问网页http://www.baidu.com\n无效代理IP: HTTP://124.156.98.172:80\n无效代理IP: HTTP://124.156.98.172:80\n有效代理IP: HTTP://14.20.235.73:808\n源IP地址为：183.208.110.207\n========================================\n无法访问网页http://www.baidu.com\n无效代理IP: HTTP://122.225.45.66:43391\n无效代理IP: HTTP://122.225.45.66:43391\n无法访问网页http://www.baidu.com\n无效代理IP: HTTP://122.51.183.224:808\n无效代理IP: HTTP://122.51.183.224:808\n无法访问网页http://www.baidu.com\n无效代理IP: HTTP://223.71.203.190:55443\n无效代理IP: HTTP://223.71.203.190:55443\n无法访问网页http://www.baidu.com\n无效代理IP: HTTP://59.44.78.30:42335\n无效代理IP: HTTP://59.44.78.30:42335\n有效代理IP: HTTP://27.208.231.100:8060\n源IP地址为：183.208.110.207\n========================================\n无法访问网页https://jsonip.com/\n无效代理IP: HTTP://218.75.158.153:3128\n无法访问网页http://www.baidu.com\n无效代理IP: HTTP://113.77.101.202:8118\n无效代理IP: HTTP://113.77.101.202:8118\n有效代理IP: HTTP://223.82.106.253:3128\n源IP地址为：183.208.110.207\n========================================\n无法访问网页http://www.baidu.com\n无效代理IP: HTTP://124.239.216.14:8060\n无效代理IP: HTTP://124.239.216.14:8060\n无法访问网页http://www.baidu.com\n无效代理IP: HTTP://101.132.123.99:8080\n无效代理IP: HTTP://101.132.123.99:8080\n无法访问网页http://www.baidu.com\n无效代理IP: HTTP://163.125.71.195:8888\n无效代理IP: HTTP://163.125.71.195:8888\n有效代理IP: HTTP://115.219.168.69:8118\n源IP地址为：183.208.110.207\n========================================\n无法访问网页http://www.baidu.com\n无效代理IP: HTTP://117.94.213.119:8118\n无效代理IP: HTTP://117.94.213.119:8118\n无法访问网页http://www.baidu.com\n无效代理IP: HTTP://183.3.218.34:8080\n无效代理IP: HTTP://183.3.218.34:8080\n无法访问网页http://www.baidu.com\n无效代理IP: HTTP://112.14.47.6:52024\n无效代理IP: HTTP://112.14.47.6:52024\n无法访问网页http://www.baidu.com\n无效代理IP: HTTP://60.2.44.182:30963\n无效代理IP: HTTP://60.2.44.182:30963\n无法访问网页http://www.baidu.com\n无效代理IP: HTTP://49.85.211.213:8118\n无效代理IP: HTTP://49.85.211.213:8118\n"
    }
   ],
   "source": [
    "from bs4 import BeautifulSoup\n",
    "import requests\n",
    "import re\n",
    "import json\n",
    "\n",
    "\n",
    "def open_proxy_url(url):\n",
    "    user_agent = 'Mozilla/5.0 (Macintosh; Intel Mac OS X 10_14_2) AppleWebKit/537.36 (KHTML, like Gecko) Chrome/72.0.3626.119 Safari/537.36'\n",
    "    headers = {'User-Agent': user_agent}\n",
    "    try:\n",
    "        r = requests.get(url, headers = headers, timeout = 10)\n",
    "        r.raise_for_status()\n",
    "        r.encoding = r.apparent_encoding\n",
    "        return r.text\n",
    "    except:\n",
    "        print('无法访问网页' + url)\n",
    "\n",
    "\n",
    "def get_proxy_ip(response):\n",
    "    proxy_ip_list = []\n",
    "    soup = BeautifulSoup(response, 'html.parser')\n",
    "    proxy_ips = soup.find(id = 'ip_list').find_all('tr')\n",
    "    for proxy_ip in proxy_ips:\n",
    "        if len(proxy_ip.select('td')) >=8:\n",
    "            ip = proxy_ip.select('td')[1].text\n",
    "            port = proxy_ip.select('td')[2].text\n",
    "            protocol = proxy_ip.select('td')[5].text\n",
    "            if protocol in ('HTTP','HTTPS','http','https'):\n",
    "                proxy_ip_list.append(f'{protocol}://{ip}:{port}')\n",
    "    return proxy_ip_list\n",
    "\n",
    "\n",
    "def open_url_using_proxy(url, proxy):\n",
    "    user_agent = 'Mozilla/5.0 (Macintosh; Intel Mac OS X 10_14_2) AppleWebKit/537.36 (KHTML, like Gecko) Chrome/72.0.3626.119 Safari/537.36'\n",
    "    headers = {'User-Agent': user_agent}\n",
    "    proxies = {}\n",
    "    if proxy.startswith(('HTTPS','https')):\n",
    "        proxies['https'] = proxy\n",
    "    else:\n",
    "        proxies['http'] = proxy\n",
    "\n",
    "    try:\n",
    "        r = requests.get(url, headers = headers, proxies = proxies, timeout = 10)\n",
    "        r.raise_for_status()\n",
    "        r.encoding = r.apparent_encoding\n",
    "        return (r.text, r.status_code)\n",
    "    except:\n",
    "        print('无法访问网页' + url)\n",
    "        print('无效代理IP: ' + proxy)\n",
    "        return False\n",
    "\n",
    "\n",
    "def check_proxy_avaliability(proxy):\n",
    "    url = 'http://www.baidu.com'\n",
    "    result = open_url_using_proxy(url, proxy)\n",
    "    VALID_PROXY = False\n",
    "    if result:\n",
    "        text, status_code = result\n",
    "        if status_code == 200:\n",
    "            r_title = re.findall('<title>.*</title>', text)\n",
    "            if r_title:\n",
    "                if r_title[0] == '<title>百度一下，你就知道</title>':\n",
    "                    VALID_PROXY = True\n",
    "        if VALID_PROXY:\n",
    "            check_ip_url = 'https://jsonip.com/'\n",
    "            try:\n",
    "                text, status_code = open_url_using_proxy(check_ip_url, proxy)\n",
    "            except:\n",
    "                return\n",
    "\n",
    "            print('有效代理IP: ' + proxy)\n",
    "            with open('valid_proxy_ip.txt','a') as f:\n",
    "                f.writelines(proxy)\n",
    "            try:\n",
    "                source_ip = json.loads(text).get('ip')\n",
    "                print(f'源IP地址为：{source_ip}')\n",
    "                print('='*40)\n",
    "            except:\n",
    "                print('返回的非json,无法解析')\n",
    "                print(text)\n",
    "    else:\n",
    "        print('无效代理IP: ' + proxy)\n",
    "\n",
    "\n",
    "if __name__ == '__main__':\n",
    "    proxy_url = 'https://www.xicidaili.com/'\n",
    "    proxy_ip_filename = 'proxy_ip.txt'\n",
    "    text = open(proxy_ip_filename, 'r').read()\n",
    "    proxy_ip_list = get_proxy_ip(text)\n",
    "    for proxy in proxy_ip_list:\n",
    "        check_proxy_avaliability(proxy) "
   ]
  },
  {
   "cell_type": "markdown",
   "metadata": {},
   "source": [
    "其中 HTTP 代理，只代理 HTTP 网站，对于 HTTPS 的网站不起作用，也就是说，用的是本机 IP，反之亦然。使用的验证的网站是https://jsonip.com, 是HTTPS网站所以探测到的有效代理中，如果是https代理，则返回的是代理地址。如果是http代理，将使用本机IP进行访问，返回的是我的公网IP地址"
   ]
  },
  {
   "cell_type": "code",
   "execution_count": null,
   "metadata": {},
   "outputs": [],
   "source": []
  }
 ],
 "metadata": {
  "language_info": {
   "codemirror_mode": {
    "name": "ipython",
    "version": 3
   },
   "file_extension": ".py",
   "mimetype": "text/x-python",
   "name": "python",
   "nbconvert_exporter": "python",
   "pygments_lexer": "ipython3",
   "version": "3.7.4-final"
  },
  "orig_nbformat": 2,
  "kernelspec": {
   "name": "python37464bitbaseconda9607f4e17a1f4ae6a62485bba290fd86",
   "display_name": "Python 3.7.4 64-bit ('base': conda)"
  }
 },
 "nbformat": 4,
 "nbformat_minor": 2
}