{
 "cells": [
  {
   "cell_type": "markdown",
   "metadata": {},
   "source": [
    "## session和cookies\n",
    "\n",
    "Session 是会话的意思，会话是产生在服务端的，用来保存当前用户的会话信息，而 Cookies 是保存在客户端（浏览器），有了 Cookie 以后，客户端（浏览器）再次访问服务端的时候，会将这个 Cookie 带上，这时，服务端可以通过 Cookie 来识别本次请求到底是谁在访问。\n",
    "\n",
    "可以简单理解为 Cookies 中保存了登录凭证，我们只要持有这个凭证，就可以在服务端保持一个登录状态。\n",
    "\n",
    "在爬虫中，有时候遇到需要登录才能访问的网页，只需要在登录后获取了 Cookies ，在下次访问的时候将登录后获取到的 Cookies 放在请求头中，这时，服务端就会认为我们的爬虫是一个正常登录用户。"
   ]
  },
  {
   "cell_type": "markdown",
   "metadata": {},
   "source": [
    "## 实战：模拟登陆163"
   ]
  },
  {
   "cell_type": "code",
   "execution_count": 10,
   "metadata": {},
   "outputs": [],
   "source": [
    "import time\n",
    "from selenium import webdriver\n",
    "from selenium.webdriver.common.by import By"
   ]
  },
  {
   "cell_type": "code",
   "execution_count": 11,
   "metadata": {},
   "outputs": [
    {
     "output_type": "stream",
     "name": "stdout",
     "text": "CDwindow-CB234EC1BF519B09E5F1715B3FD443CC\n"
    }
   ],
   "source": [
    "# 使用selenium进行模拟登陆\n",
    "name = 'your-name'\n",
    "passwd = 'your-password'\n",
    "driver = webdriver.Chrome('D:\\软件\\chromedriver_win32\\chromedriver.exe')\n",
    "driver.get('https://mail.163.com')\n",
    "\n",
    "# 将窗口调整到最大\n",
    "driver.maximize_window()\n",
    "\n",
    "# 休息5s\n",
    "time.sleep(5)\n",
    "\n",
    "current_window_1 = driver.current_window_handle\n",
    "print(current_window_1)"
   ]
  },
  {
   "cell_type": "code",
   "execution_count": 12,
   "metadata": {},
   "outputs": [],
   "source": [
    "# 切换到账号密码登陆\n",
    "button = driver.find_element_by_id('lbNormal')\n",
    "button.click()\n",
    "\n",
    "driver.switch_to_frame(driver.find_element_by_xpath(\"//iframe[starts-with(@id, 'x-URS-iframe')]\"))"
   ]
  },
  {
   "cell_type": "code",
   "execution_count": 13,
   "metadata": {
    "tags": [
     "outputPrepend"
    ]
   },
   "outputs": [
    {
     "output_type": "stream",
     "name": "stdout",
     "text": "d=\"window.gAd.showReport(1025, event)\" style=\"position:absolute; left:-99999px; bottom:2px;z-index:10;\">\n                    <span class=\"\" style=\"display:inline;\">\n                        工作再忙，也别忘了忙里偷闲\n                    </span>\n                    \n                </span>\n                </div></span></div><div class=\"gWel-mailInfo\" id=\"1587710426194_dvMailInfo\"><ul class=\"gWel-mailInfo-list\"><li id=\"_mail_component_133_133\" class=\"js-component-component gWel-mailInfo-item gWel-mailInfo-unread\" title=\"有16封未读邮件\" tabindex=\"0\"><div class=\"gWel-mailInfo-ico\"><b class=\"nui-ico gWel-ico gWel-ico-unread-top\"></b><b class=\"nui-ico gWel-ico gWel-ico-unread-letter\"></b><b class=\"nui-ico gWel-ico gWel-ico-unread-bottom\"></b></div><div class=\"gWel-mailInfo-txt\" id=\"1587710426194_dvUnreadMailInfo\">未读邮件<span class=\"gWel-mailInfo-status\">16</span></div></li><li id=\"_mail_component_135_135\" class=\"js-component-component gWel-mailInfo-item gWel-mailInfo-todo\" title=\"没有需要处理的待办邮件\" tabindex=\"0\"><div class=\"gWel-mailInfo-ico\"><b class=\"nui-ico gWel-ico gWel-ico-todo\"></b><b class=\"nui-ico gWel-ico gWel-ico-todo-lhand\"></b><b class=\"nui-ico gWel-ico gWel-ico-todo-shand\"></b></div><div class=\"gWel-mailInfo-txt\" id=\"1587710426194_dvTodoMailInfo\">待办邮件</div></li><li id=\"_mail_component_137_137\" class=\"js-component-component gWel-mailInfo-item gWel-mailInfo-cnta\" title=\"没有未读联系人邮件\" tabindex=\"0\"><div class=\"gWel-mailInfo-ico\"><b class=\"nui-ico gWel-ico gWel-ico-cnta\"></b><b class=\"nui-ico gWel-ico gWel-ico-cnta-star\"></b></div><div class=\"gWel-mailInfo-txt\" id=\"1587710426194_dvCntaMailInfo\">联系人邮件</div></li><li class=\"gWel-mailInfo-item gWel-mailInfo-health-err gWel-mailInfo-health-err-flash\" id=\"1587710426194_dvHealth\" title=\"您还未体检过，请点击进行体检。\"><div><div id=\"_mail_component_162_162\" class=\"js-component-component gWel-mailInfo-ico\"><b class=\"nui-ico nui-ico nui-ico-safety-red\"></b></div><div class=\"gWel-mailInfo-txt\">安全度</div></div></li><li id=\"_mail_component_139_139\" class=\"js-component-component gWel-mailInfo-item gWel-mailInfo-pinle gWel-mailInfo-err\" title=\"登录保护\" tabindex=\"0\"><div class=\"gWel-mailInfo-ico\"><b class=\"nui-ico  nui-ico-protect\"></b></div><div class=\"gWel-mailInfo-txt\" id=\"1587710426194_dvpinleMailInfo\">登录保护</div></li><li id=\"_mail_component_141_141\" class=\"js-component-component gWel-mailInfo-item gWel-mailInfo-pinle gWel-mailInfo-err\" title=\"每日生活\" tabindex=\"0\"><div class=\"gWel-mailInfo-ico\"><b class=\"nui-ico  nui-ico-life\"></b></div><div class=\"gWel-mailInfo-txt\" id=\"1587710426194_dvyxRecomMailInfo\">每日生活</div></li></ul></div><div class=\"gWel-weather gWel-weather-default\" tabindex=\"0\" id=\"1587710426194_dvWeather\"><div class=\"gWel-weather-wrapper\"><div class=\"gWel-weather-address\"><a id=\"_mail_link_6_164\" href=\"javascript:void(0)\" class=\"address-txt nui-txt-link js-component-link \" hidefocus=\"hidefocus\" title=\"切换城市\">宿迁<span class=\"address-edit\"><b class=\" nui-ico nui-ico-edit\"></b></span></a><span class=\"address-date\">4月24日 农历四月初二 </span></div> <div class=\"gWel-weather-info\"><div class=\"today\"><div class=\"date\">今天<span class=\"week\">(周五) </span></div><div class=\"icon\"><img src=\"https://mimg.127.net/p/t.gif\" style=\"background-image: url(https://mimg.127.net/p/js6/lib/img/weather/100x100/00.png);\"> </div><div class=\"temp\"><span class=\"desc\">晴&nbsp;</span>23℃～7℃</div><div class=\"desc\"> 晴</div></div><div class=\"tommorow\"><div class=\"date\">明天<span class=\"week\">(周六) </span></div><div class=\"icon\"><img src=\"https://mimg.127.net/p/t.gif\" style=\"background-image: url(https://mimg.127.net/p/js6/lib/img/weather/64x64/00.png);\"> </div><div class=\"temp\"><span class=\"desc\">晴&nbsp;</span>26℃～10℃</div><div class=\"desc\"> 晴</div></div><div class=\"tommorow last\"><div class=\"date\">后天<span class=\"week\">(周日) </span></div><div class=\"icon\"><img src=\"https://mimg.127.net/p/t.gif\" style=\"background-image: url(https://mimg.127.net/p/js6/lib/img/weather/64x64/00.png);\"> </div><div class=\"temp\"><span class=\"desc\">晴&nbsp;</span>24℃～10℃</div><div class=\"desc\"> 晴</div></div></div><div class=\"gWel-weather-footer-old\"><div class=\"quality\"></div><div class=\"more\"><a id=\"_mail_link_7_165\" href=\"javascript:void(0)\" class=\" js-component-link nui-txt-link\" hidefocus=\"hidefocus\" title=\"查看未来7天天气\">查看未来7天天气&gt;</a></div></div></div><div class=\"gWel-weather-area\" id=\"1587710426194_dvWeatherConfig\" style=\"display:none;\"></div></div><div class=\"gWel-weather-promote\"><div class=\"gWel-weather-promote-inner\" id=\"1587710426194_dvWeatherPromote\"></div></div></div><div class=\"gWel-bottom\" id=\"1587710426194_dvWelBottom\"><div class=\"gWel-recommend  nui-closeable\" id=\"1587710426194_dvTabs\"><a title=\"去广告\" href=\"javascript:void(0);\" id=\"_mail_component_143_143\" class=\"js-component-component nui-closeable-x\"></a><ul role=\"tablist\" aria-label=\"邮箱标签\" id=\"_mail_tab_1_145\" class=\"js-component-tab gWel-recommend-title nui-tabs nui-tabs-common  \"><li id=\"_mail_tabitem_6_146\" class=\"js-component-tabitem gWel-tabs-list-first nui-tabs-item nui-tabs-item-selected nui-txt-cLink\" role=\"tab\" aria-selected=\"true\" tabindex=\"0\"><div class=\"nui-tabs-item-text nui-fNoSelect\" unselectable=\"on\" id=\"_mail_tabitem_6_146text\">邮推荐<b class=\"nui-ico gWel-ico gWel-ico-redot\"></b><b class=\"locate\"><span class=\"locate-inner\">●</span></b></div></li><li id=\"_mail_tabitem_7_147\" class=\"js-component-tabitem nui-tabs-item \" role=\"tab\" aria-selected=\"false\" tabindex=\"0\"><div class=\"nui-tabs-item-text nui-fNoSelect\" unselectable=\"on\" id=\"_mail_tabitem_7_147text\">邮福利<b class=\"nui-ico gWel-ico gWel-ico-redot\"></b><b class=\"locate\"><span class=\"locate-inner\">●</span></b></div></li><li id=\"_mail_tabitem_8_148\" class=\"js-component-tabitem nui-tabs-item gWel-recommend-tabItem-new\" role=\"tab\" aria-selected=\"false\" tabindex=\"0\"><div class=\"nui-tabs-item-text nui-fNoSelect\" unselectable=\"on\" id=\"_mail_tabitem_8_148text\">限时惠<b class=\"nui-ico gWel-ico gWel-ico-redot\"></b><b class=\"locate\"><span class=\"locate-inner\">●</span></b></div></li><li id=\"_mail_tabitem_9_149\" class=\"js-component-tabitem nui-tabs-item\" role=\"tab\" aria-selected=\"false\" tabindex=\"0\"><div class=\"nui-tabs-item-text nui-fNoSelect\" unselectable=\"on\" id=\"_mail_tabitem_9_149text\">听故事<b class=\"nui-ico gWel-ico gWel-ico-redot\"></b><b class=\"locate\"><span class=\"locate-inner\">●</span></b></div></li><li id=\"_mail_tabitem_10_150\" class=\"js-component-tabitem nui-tabs-item \" role=\"tab\" aria-selected=\"false\" tabindex=\"0\"><div class=\"nui-tabs-item-text nui-fNoSelect\" unselectable=\"on\" id=\"_mail_tabitem_10_150text\">看世界<b class=\"nui-ico gWel-ico gWel-ico-redot\"></b><b class=\"locate\"><span class=\"locate-inner\">●</span></b></div></li></ul><div class=\"gWel-recommend-contYX\" id=\"1587710426194_dvmailrecompanel\" style=\"\"><div><div class=\"gWel-recommend-contYX-list nui-ani-transition\" id=\"1587710426194_dvYxRecomList\"><div class=\"gWel-recommend-contYX-group\"><div class=\"gWel-RGC-box gWel-RGC-box-big\"><div class=\"gWel-RGC-box-big-tpl\">\n                <div id=\"mailgg__1029\" class=\"mailgg\" style=\"position:absolute;left:0;top:0\">\n                    \n            <img src=\"https://mimg.127.net/ggimg/all/img19/ico_gg.png\" style=\"position:absolute; left:2px; bottom:2px;z-index:10;\" srcset=\"https://mimg.127.net/ggimg/all/img19/ico_gg.png 1x, https://mimg.127.net/ggimg/all/img19/ico_gg@2x.png 2x\">\n            \n                <a style=\"display:block;text-align:center;\" href=\"http://r.mail.163.com/r.jsp?url=https%3A%2F%2F1.163.com%2Fhtml%2Fqian%2Fweb%2F5e996977489f0407a7513e8d.html&amp;sign=-1394207417&amp;_r_ignore_statId=1_1_110_2241&amp;position=1\" onclick=\"window.gAd.clickReport(1029, event)\" target=\"_blank\">    \n                    <img style=\"display:block;\" src=\"https://mimg.127.net/m/func/img/mailrec/2241/4/promPic.jpg\" onload=\"window.gAd.showReport(1029, event)\" alt=\"undefined\">\n                </a>        \n            \n        \n                </div></div></div><div class=\"gWel-RGC-box gWel-RGC-box-sml\"><a class=\"link\" href=\"https://you.163.com/item/detail?id=1114010&amp;from=web_gg_mail_youtuijiannew_0\" target=\"_blank\"><img class=\"pic nui-ani-transition\" data-url=\"https://yanxuan-item.nosdn.127.net/58b7b4a5277dddbfd9b99b07f38b6c20.png?imageView&amp;quality=95&amp;thumbnail=145x145\" src=\"https://yanxuan-item.nosdn.127.net/58b7b4a5277dddbfd9b99b07f38b6c20.png?imageView&amp;quality=95&amp;thumbnail=145x145\" alt=\"玩趣彩虹四季拖鞋\"><p class=\"name\">玩趣彩虹四季拖鞋</p><p class=\"price\">¥19.9</p><p class=\"buy\">购买</p>\t\t\t\t\t\t\t\t\t</a></div><div class=\"gWel-RGC-box gWel-RGC-box-sml\"><a class=\"link\" href=\"https://you.163.com/item/detail?id=1127007&amp;from=web_gg_mail_youtuijiannew_0\" target=\"_blank\"><span class=\"discount\">包邮</span><img class=\"pic nui-ani-transition\" data-url=\"https://yanxuan-item.nosdn.127.net/ecef155d279e1a485b4f31f87daa3698.png?imageView&amp;quality=95&amp;thumbnail=145x145\" src=\"https://yanxuan-item.nosdn.127.net/ecef155d279e1a485b4f31f87daa3698.png?imageView&amp;quality=95&amp;thumbnail=145x145\" alt=\"轻松拥有小白牙 日式和风声波式电动牙刷\"><p class=\"name\">轻松拥有小白牙 日式和风声波式电动牙刷</p><p class=\"price\">¥139.0</p><p class=\"buy\">购买</p>\t\t\t\t\t\t\t\t\t</a></div><div class=\"gWel-RGC-box gWel-RGC-box-sml\"><a class=\"link\" href=\"https://you.163.com/item/detail?id=1183000&amp;from=web_gg_mail_youtuijiannew_0\" target=\"_blank\"><span class=\"discount\">包邮</span><img class=\"pic nui-ani-transition\" data-url=\"https://yanxuan-item.nosdn.127.net/f09d15c756b229c1bd18b61cfd309fef.png?imageView&amp;quality=95&amp;thumbnail=145x145\" src=\"https://yanxuan-item.nosdn.127.net/f09d15c756b229c1bd18b61cfd309fef.png?imageView&amp;quality=95&amp;thumbnail=145x145\" alt=\"洗去一天疲惫 越南增压节水柔肤花洒\"><p class=\"name\">洗去一天疲惫 越南增压节水柔肤花洒</p><p class=\"price\">¥89.0</p><p class=\"buy\">购买</p>\t\t\t\t\t\t\t\t\t</a></div><div class=\"gWel-RGC-box gWel-RGC-box-sml\"><a class=\"link\" href=\"https://you.163.com/item/detail?id=1142056&amp;from=web_gg_mail_youtuijiannew_0\" target=\"_blank\"><img class=\"pic nui-ani-transition\" data-url=\"https://yanxuan-item.nosdn.127.net/af034280b9feb9795d01052496eef8d7.png?imageView&amp;quality=95&amp;thumbnail=145x145\" src=\"https://yanxuan-item.nosdn.127.net/af034280b9feb9795d01052496eef8d7.png?imageView&amp;quality=95&amp;thumbnail=145x145\" alt=\"雪麸蛋糕\"><p class=\"name\">雪麸蛋糕</p><p class=\"price\">¥9.9</p><p class=\"buy\">购买</p>\t\t\t\t\t\t\t\t\t</a></div></div></div></div></div><div class=\"gWel-recommend-contFull\" id=\"1587710426194_dvyflpanel\" style=\"display:none\"></div><div class=\"gWel-recommend-contHasSider\" id=\"1587710426194_dvxshpanel\" style=\"display:none\"></div><div class=\"gWel-recommend-contFull\" id=\"1587710426194_dvtgspanel\" style=\"display: none;\"><div><iframe allowtransparency=\"allowTransparency\" class=\"iframe\" frameborder=\"0\" scrolling=\"no\" src=\"https://mail.163.com/html/main_music_radio/promot2.html?uid=wyh_nanjing@163.com\" width=\"740\" height=\"360\">正在加载...</iframe></div></div><div class=\"gWel-recommend-contFull\" id=\"1587710426194_dvworldpanel\" style=\"display:none\"></div></div><div class=\"gWel-promt En0 nui-closeable\" id=\"1587710426194_dvPrmot\"><a title=\"去广告\" href=\"javascript:void(0);\" id=\"_mail_component_169_169\" class=\"js-component-component nui-closeable-x\"></a>\n                <div id=\"mailgg__1026\" class=\"mailgg\" style=\"position:relative\">\n                    <div style=\"position:relative;\">\n                    <img src=\"https://mimg.127.net/ggimg/all/img19/ico_gg.png\" style=\"position:absolute; left:2px; bottom:2px;z-index:10;\" srcset=\"https://mimg.127.net/ggimg/all/img19/ico_gg.png 1x, https://mimg.127.net/ggimg/all/img19/ico_gg@2x.png 2x\">\n                    \n                <a href=\"https://dsp-click.youdao.com/clk/request.s?slot=3dfdc727554fcec5ed48634356e4ad88&amp;k=MxpLmL9Ou3NoAVLfJdSRzOj2tmmC18237KMi%2BioGEn3Xxo%2BoRxcJpjjAgKuViCqvhmLebSC%2BkLVxwNi3a%2Fxr%2B2XPiQhCKxgJepfVf%2BPGTZ2qvZZX3GztuEM9cPydManFBhFD96tB7p%2BS6vCxuQg%2FN%2Bg7l8qD%2B2oLCDdSgJ6vQLissOVAl6voFwV9pTpbrO%2F6yrxKNJYn9pyk2r7%2FNtBkIG9mqi%2BAueI%2BEjreAtE%2B2ZLGMTGX5O0m57sEgtJIRhbNUOy1jb%2FkTbGqwuYKxHDeErGLCkKwEdOtvMHQ7diLQSsbfv2DLsPPVeHilJjm9bIqa6a0mBnOvdggPZ4dcBiA4tFcbO2o5lsMvQUCV4%2BubdFElElOZ%2BLvmruBM8VeJ%2Bag5V7M4nGU%2BWy1hEQb82HyUhPKMvRFmVtFogU4Cvljx9xtrgDkXUdp%2B0i9YEuEZVFADfD%2B7dsKFrHwG07%2Bx9%2FozTyYvZPZtBapAXUW%2Br78MwqG3DEPELDUExbXRdEpaDUcufuLubkEYH4UEbFycBHE4rA6vB4NMRlypPCZdTOscTX%2FIxCB%2BHgjVG%2FEwCDLBDsZ2Nj5Ky6RdK59L8zF8Zjtmbw5xSgYBkSQnuoRCnKAu3lusR%2FHWaa3gtb0k6RpauTthMlwXD6mtF5J1lTwY9DI9vrJwS3sxtCAIoMxqQ20kGX2aNWDMfWHnSzSMOl6KsH87dvfVUqFZCstljpqfSQV8TKkIsxPkAANySPmwfQaKSD2fS6fXbec6NoK6X0NzL3K0hsvHClWmfIoC21KLQooe96Kr2VofN%2BS923FZJj%2FytiJyrMyBtl49MScFyKgLHIL9QcjZsFWrbq6R10fi7k%2F1Tn5lBzWqz0886vzIFmSB6WZIJ24LA6LNQpaZLtYWCY6e362DI%2BKP7uSsvIVJBLoZPQIL6eai02%2BA1pWaztDOICrp6o90cFK4hWt7N4Po%2BwoofD8%2FDrLBUh6oCDBE%2FplLnIIUpmK5I6sIxSZeQ6XTUTMk4i5OnjAA6ipkvGV2eex4JeqHYAgm0bZgzS9UjbFt5nmcQx3TUxS1zblaBjfrfbXxo%2BoRxcJpjjAgKuViCqv18aPqEcXCaY4wICrlYgqr9fGj6hHFwmmOMCAq5WIKq8bLpHOUjfx44GtH6tjqQKI&amp;isrd=1&amp;youdao_bid=d447c81a-7092-4b21-b11f-2175a06e23a9&amp;youdao_deviceId=14B8056FFCD7025FFB3EC745915D2045&amp;sid=6864&amp;tid=0\" target=\"_blank\" onclick=\"window.gAd.clickReport(1026, event)\">\n                    <img style=\"display:block;width:200px;height:400px;\" src=\"https://oimageb4.ydstatic.com/image?id=-6927750992697998878&amp;product=adpublish&amp;w=200&amp;h=400\" onload=\"window.gAd.showReport(1026, event)\" alt=\"undefined\">\n                </a>\n            \n                </div>\n                </div></div></div></div></div></div></div><div id=\"dvSubContainer\" style=\"display: none;\"><div id=\"_dvModuleContainer_address.AddressModule_0\" class=\" frame-main\" role=\"main\" aria-label=\"\" style=\"display: none;\"><div id=\"1587710426195_address\" class=\"tL0\"><header class=\"frame-main-cont-head\"><div id=\"_mail_input_2_172\" class=\"js-component-input nui-ipt nui-ipt-hasIconBtn  \"><label class=\"nui-ipt-placeholder\" for=\"_mail_input_2_172_inputId\">查找联系人</label><input id=\"_mail_input_2_172_inputId\" class=\"nui-ipt-input\" type=\"text\" aria-label=\"查找联系人\"><span class=\"nui-ipt-iconBtn\" tabindex=\"0\" hidefocus=\"hidefocus\"><b id=\"_mail_icon_29_174\" class=\"js-component-icon nui-ico nui-ico-search  \" role=\"button\"></b></span></div><a id=\"_mail_link_10_173\" href=\"javascript:void(0)\" class=\" js-component-link qP0\" hidefocus=\"hidefocus\" title=\"快速添加联系人\"><b class=\"nui-ico nui-ico-add2\"></b></a></header><div id=\"1587710426195_personal\" class=\"frame-main-cont-body nui-scroll\"><section class=\"tC0\"><div id=\"1587710426195_search\" class=\"pX0\"></div><div id=\"1587710426195_list\" class=\"nui-simpleTree nui-tree rs0\"><div><div class=\"nui-tree-item nui-tree-item-spec\"><ul class=\"nui-tree\"><li class=\"nui-tree-item nui-tree-item-noChild\"><a class=\"pW0\" href=\"javascript:void(0)\" title=\"&quot;我&quot;<wyh_nanjing@163.com>\"><span class=\"nui-tree-item-icon\"><b class=\"nui-ico nui-ico-user nui-ico-user-me\"></b></span>给自己写一封信</a></li></ul></div><div class=\"nui-tree-item nui-tree-item-isFold\"><span class=\"nui-tree-item-label\"><span class=\"nui-tree-item-symbol\"><b id=\"_mail_icon_30_175\" class=\"js-component-icon nui-tree-item-symbol-fold nui-ico nui-ico-rArr  \" title=\"展开\"></b><b id=\"_mail_icon_31_176\" class=\"js-component-icon nui-tree-item-symbol-unfold nui-ico nui-ico-dArr  \" title=\"折叠\"></b></span><span title=\"未分组\" class=\"nui-tree-item-text\">未分组(4)</span></span></div><div class=\"nui-split nui-split-dotted\"></div><div class=\"nui-tree-item nui-tree-item-isUnfold\"><span class=\"nui-tree-item-label\"><span class=\"nui-tree-item-symbol\"><b id=\"_mail_icon_32_177\" class=\"js-component-icon nui-tree-item-symbol-fold nui-ico nui-ico-rArr  \" title=\"展开\"></b><b id=\"_mail_icon_33_178\" class=\"js-component-icon nui-tree-item-symbol-unfold nui-ico nui-ico-dArr  \" title=\"折叠\"></b></span><span title=\"所有联系人\" class=\"nui-tree-item-text\">所有(4)</span></span><ul class=\"nui-tree\"><li data-id=\"0\" title=\"baidupinggu@foxmail.com\"><a href=\"javascript:void(0)\" class=\"pW0\">baidupinggu@foxmail.com</a></li><li data-id=\"1\" title=\"yxlvvv@sohu.com\"><a href=\"javascript:void(0)\" class=\"pW0\">yxlvvv@sohu.com</a></li><li data-id=\"2\" title=\"beian@huaweicloud.com\"><a href=\"javascript:void(0)\" class=\"pW0\">华为云备案</a></li><li data-id=\"3\" title=\"zhuxiaobing@jingweiip.com\"><a href=\"javascript:void(0)\" class=\"pW0\">朱小兵</a></li></ul></div></div></div></section></div></div></div></div>                        <div id=\"dvSplitter\" class=\"frame-main-sptln\" style=\"display: none;\"><span class=\"frame-main-sptln-inner\"><span class=\"frame-main-sptln-dot\"></span><span class=\"frame-main-sptln-dot\"></span><span class=\"frame-main-sptln-dot\"></span></span>            </div></div>                  <footer class=\"skin\">            <div class=\"skin-item skin-top\">                <div class=\"skin-top-inner\"></div>                <div class=\"skin-top-inner2\"></div>            </div>            <div class=\"skin-item skin-top-left\"></div>            <div class=\"skin-item skin-top-right\"></div>            <div class=\"skin-item skin-left\" id=\"themeLeft\"></div>            <div class=\"skin-item skin-left-top\" id=\"themeLeftTop\"></div>            <div class=\"skin-item skin-left-bottom\" id=\"themeLeftBottom\"></div>            <div class=\"skin-item skin-right\"></div>            <div class=\"skin-item skin-right-top\"></div>            <div class=\"skin-item skin-right-bottom\"></div>            <div class=\"skin-item skin-bottom\"></div>            <div class=\"skin-item skin-fullScreen\" id=\"themeFullScreen\"></div>            <div class=\"skin-imgProxy\" id=\"themeImgProxy\"></div>                    </footer>        <span class=\"nui-fGetout nui-txt-fNui\">f</span>                <span id=\"spnCheckCssLoaded\" class=\"frame-isLoaded\"></span>                <span id=\"spnCheckFont\" class=\"nui-fGetout nui-txt-s12 nui-txt-fNui\">zz</span><iframe onload=\"this.setAttribute('loaded', 'loaded');\" id=\"getMarkedContacts\" src=\"../contacts/call.do?uid=wyh_nanjing@163.com&amp;sid=wAQGnfsjpjAfebGOLfjjAzpomCSMzFIR&amp;from=webmail&amp;cmd=newapi.getContacts&amp;vcardver=3.0&amp;ctype=markedcontacts\" style=\"display:none;\" loaded=\"loaded\"></iframe>                <script type=\"text/javascript\">        window.TopWindow = window.gUseInIframe ? window : top;        </script><script type=\"text/javascript\" src=\"https://mimg.127.net/p/js6/6.0b2004091549/js/fix_v6_min.js\"></script><script type=\"text/javascript\" src=\"https://mimg.127.net/p/bjs/release/bjs-1.1.4.js\"></script><script type=\"text/javascript\" src=\"https://mimg.127.net/p/js6/6.0b2004091549/js/p0.js\"></script><script type=\"text/javascript\">try {                    if($Fix.fix){                        $Fix.fix(\"p0\");                    }                } catch (e) {}</script><script type=\"text/javascript\">(function(){$G.appInitStep.init = false;netease.mail.js6.appInit();$G.appInitStep.init = true;$G.appInitStep.start = false;})();</script><input type=\"hidden\" id=\"txtHis1587710426223\" style=\"display: none;\" value=\"module=index|module=welcome.WelcomeModule%7C%7B%7D\"><iframe id=\"ifrmHis1587710426223\" style=\"display: none;\"></iframe><div aria-live=\"polite\" aria-atomic=\"true\" style=\"left: 200px; display: none;\" id=\"_mail_tips_0_0\" class=\"js-component-tips nui-frameTips nui-tips nui-tips-aside nui-frameTips-aside\"><span class=\"nui-tips-icon\"><b id=\"_mail_icon_0_1\" class=\"js-component-icon nui-ico nui-ico-loading  \"></b></span><span class=\"nui-tips-text\">加载中..</span></div>                <script src=\"https://mimg.127.net/p/js6/6.0b2004091549/js/p1.js\"></script>                                <script>try {                        if($Fix.fix){                            $Fix.fix(\"p1\");                        }                    } catch (e) {}netease.mail.js6.appStart();$G.appInitStep.start = true;</script><script type=\"text/javascript\" id=\"scriptReadAd\" for=\"adRead\" event=\"FSCommand(command,args)\">try{DoFSCommand(command,args);} catch (e) {}</script><script type=\"text/javascript\">$.Event.listen(window, \"unload\", function(){fOnUnload();});function fOnUnload(){var aDoms = document.body.childNodes;for (var i=aDoms.length -1;i>-1;i--){try{$(aDoms[i]).remove();}catch(e){}}}</script>        <script type=\"text/javascript\">var BG=1;</script>\n\n\n<div id=\"zoomMonitorDiv\" class=\"rl0\">undefined</div></body></html>\n"
    }
   ],
   "source": [
    "# 输入信息，登陆\n",
    "email = driver.find_element_by_name('email')\n",
    "email.send_keys(name)\n",
    "\n",
    "password = driver.find_element_by_name('password')\n",
    "password.send_keys(passwd)\n",
    "\n",
    "submit = driver.find_element_by_id('dologin')\n",
    "\n",
    "time.sleep(15)\n",
    "submit.click()\n",
    "\n",
    "time.sleep(10)\n",
    "print(driver.page_source)"
   ]
  },
  {
   "cell_type": "code",
   "execution_count": 14,
   "metadata": {},
   "outputs": [],
   "source": [
    "driver.quit()"
   ]
  },
  {
   "cell_type": "code",
   "execution_count": null,
   "metadata": {},
   "outputs": [],
   "source": []
  }
 ],
 "metadata": {
  "language_info": {
   "codemirror_mode": {
    "name": "ipython",
    "version": 3
   },
   "file_extension": ".py",
   "mimetype": "text/x-python",
   "name": "python",
   "nbconvert_exporter": "python",
   "pygments_lexer": "ipython3",
   "version": "3.7.4-final"
  },
  "orig_nbformat": 2,
  "kernelspec": {
   "name": "python37464bitbaseconda9607f4e17a1f4ae6a62485bba290fd86",
   "display_name": "Python 3.7.4 64-bit ('base': conda)"
  }
 },
 "nbformat": 4,
 "nbformat_minor": 2
}